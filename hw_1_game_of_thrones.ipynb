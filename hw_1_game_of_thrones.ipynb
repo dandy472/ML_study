{
 "cells": [
  {
   "cell_type": "markdown",
   "metadata": {
    "id": "pgFYFftQKxY5"
   },
   "source": [
    "<h3 style=\"text-align: center;\"><b>Школа глубокого обучения ФПМИ МФТИ</b></h3>\n",
    "\n",
    "<h1 style=\"text-align: center;\"><b>Домашнее задание. Библиотека sklearn и классификация с помощью KNN</b></h1>"
   ]
  },
  {
   "cell_type": "markdown",
   "metadata": {
    "id": "cgiYn3hkWAAA"
   },
   "source": [
    "## Описание домашнего задания"
   ]
  },
  {
   "cell_type": "markdown",
   "metadata": {
    "id": "IZE9r4BEQb6E"
   },
   "source": [
    "В данном задании вы будете работать с датасетом о персонажах из вселенной Игры Престолов [A Wiki of Ice and Fire](http://awoiaf.westeros.org/). Вам предстоит предсказать, кто из персонажей умрет, а кто останется вживых.\n",
    "\n"
   ]
  },
  {
   "cell_type": "markdown",
   "metadata": {
    "id": "CMY39BOZwoL0"
   },
   "source": [
    "Описание данных:\n",
    "\n",
    "* **name**: Имя персонажа\n",
    "\n",
    "* **Title**: Социальный статус или знатность\n",
    "\n",
    "* **House**: Дом, к которому принадлежит персонаж\n",
    "\n",
    "* **Culture**: Социальная группа, к которой принадлежит персонаж\n",
    "\n",
    "* **book1/2/3/4/5**: Появление персонажа в книге\n",
    "\n",
    "* **Is noble**: Знатность персонажа, основанное на титуле\n",
    "\n",
    "* **Age**: Отсчет времени: 305 AC\n",
    "\n",
    "* **male**: Мужчина или женщина\n",
    "\n",
    "* **dateOfBirth**: дата рождения\n",
    "\n",
    "* **Spouse**: Имя супруги\\а персонажа\n",
    "\n",
    "* **Father**: Имя отца персонажа\n",
    "\n",
    "* **Mother**: Имя матери персонажа\n",
    "\n",
    "* **Heir**: Имя наследника персонажа\n",
    "\n",
    "* **Is married**: Represents whether the character is married\n",
    "\n",
    "* **Is spouse alive**: Represents whether character's spouse is alive\n",
    "\n",
    "* **Is mother alive:** Жива ли мать персонажа\n",
    "\n",
    "* **Is heir alive:** Жив ли наследник персонажа\n",
    "\n",
    "* **Is father alive:** Указывает, жив ли отец персонажа\n",
    "\n",
    "* **Number dead relations:** Количество умерших персонажей, с которыми персонаж связан\n",
    "\n",
    "* **Popularity score:** Количество внутренних входящих и исходящих ссылок на страницу персонажей в вики http://awoiaf.westeros.org\n",
    "\n",
    "Целевая переменная:\n",
    "* **isAlive**: жив ли персонаж в книге"
   ]
  },
  {
   "cell_type": "markdown",
   "metadata": {
    "id": "jGHHzuxLbaQ5"
   },
   "source": [
    "Оценивание:\n",
    "\n",
    "Баллы считаются следующим образом:\n",
    "\n",
    "1) $1.00 \\geqslant score \\geqslant 0.65$ --- 5 баллов\n",
    "\n",
    "2) $0.65 > score \\geqslant 0.50$ --- 4 балла\n",
    "\n",
    "3) $0.50 > score \\geqslant 0.45$ --- 3 балла\n",
    "\n",
    "4) $0.45 > score \\geqslant 0.40$ --- 2 балла\n",
    "\n",
    "5) $0.40 > score \\geqslant 0.35$ --- 1 балл\n",
    "\n",
    "6) $0.35 > score$ --- 0 баллов"
   ]
  },
  {
   "cell_type": "markdown",
   "metadata": {
    "id": "U75ajNjcWHCN"
   },
   "source": [
    "## Часть 1. Анализ и предобработка данных"
   ]
  },
  {
   "cell_type": "markdown",
   "metadata": {
    "id": "Uv-Z_6a9Ww4O"
   },
   "source": [
    "Здесь вам необходимо сделать все шаги, которые обсуждались в первой части семинара.\n",
    "* Предобработка данных\n",
    "  * Обработка пропущенных данных\n",
    "  * Создание новых признаков\n",
    "  * Удаление ненужных столбцов\n",
    "* Анализ данных\n",
    "  * Анализ целевой переменной\n",
    "  * Анализ признаков\n",
    "  * Анализ влияния признаков на целевую переменную\n",
    "* Подготовка данных для обучения модели"
   ]
  },
  {
   "cell_type": "markdown",
   "metadata": {
    "id": "ON8TMTBTWa_E"
   },
   "source": [
    "**Задание 1.1.** Импортируйте библиотеки pandas, matplotlib, seaborn"
   ]
  },
  {
   "cell_type": "code",
   "execution_count": 149,
   "metadata": {
    "id": "QO08nAt6mO7E"
   },
   "outputs": [],
   "source": [
    "import pandas as pd\n",
    "import seaborn as sns\n",
    "import matplotlib.pyplot as plt\n",
    "import numpy as np"
   ]
  },
  {
   "cell_type": "markdown",
   "metadata": {
    "id": "M-1ZcYjohU4W"
   },
   "source": [
    "**Задание 1.2.** Загрузите датасет в Pandas DataFrame при помощи функции `read_csv`. Вместо дефолтных наименований строк `0,1,...`, при помощи параметра `index_col`, сделайте значения колонки `S.No` наименованиями строк:"
   ]
  },
  {
   "cell_type": "code",
   "execution_count": 150,
   "metadata": {
    "id": "v0HRU0trQLmS"
   },
   "outputs": [
    {
     "data": {
      "text/html": [
       "<div>\n",
       "<style scoped>\n",
       "    .dataframe tbody tr th:only-of-type {\n",
       "        vertical-align: middle;\n",
       "    }\n",
       "\n",
       "    .dataframe tbody tr th {\n",
       "        vertical-align: top;\n",
       "    }\n",
       "\n",
       "    .dataframe thead th {\n",
       "        text-align: right;\n",
       "    }\n",
       "</style>\n",
       "<table border=\"1\" class=\"dataframe\">\n",
       "  <thead>\n",
       "    <tr style=\"text-align: right;\">\n",
       "      <th></th>\n",
       "      <th>name</th>\n",
       "      <th>title</th>\n",
       "      <th>male</th>\n",
       "      <th>culture</th>\n",
       "      <th>dateOfBirth</th>\n",
       "      <th>mother</th>\n",
       "      <th>father</th>\n",
       "      <th>heir</th>\n",
       "      <th>house</th>\n",
       "      <th>spouse</th>\n",
       "      <th>...</th>\n",
       "      <th>isAliveMother</th>\n",
       "      <th>isAliveFather</th>\n",
       "      <th>isAliveHeir</th>\n",
       "      <th>isAliveSpouse</th>\n",
       "      <th>isMarried</th>\n",
       "      <th>isNoble</th>\n",
       "      <th>age</th>\n",
       "      <th>numDeadRelations</th>\n",
       "      <th>popularity</th>\n",
       "      <th>isAlive</th>\n",
       "    </tr>\n",
       "    <tr>\n",
       "      <th>S.No</th>\n",
       "      <th></th>\n",
       "      <th></th>\n",
       "      <th></th>\n",
       "      <th></th>\n",
       "      <th></th>\n",
       "      <th></th>\n",
       "      <th></th>\n",
       "      <th></th>\n",
       "      <th></th>\n",
       "      <th></th>\n",
       "      <th></th>\n",
       "      <th></th>\n",
       "      <th></th>\n",
       "      <th></th>\n",
       "      <th></th>\n",
       "      <th></th>\n",
       "      <th></th>\n",
       "      <th></th>\n",
       "      <th></th>\n",
       "      <th></th>\n",
       "      <th></th>\n",
       "    </tr>\n",
       "  </thead>\n",
       "  <tbody>\n",
       "    <tr>\n",
       "      <th>1</th>\n",
       "      <td>Viserys II Targaryen</td>\n",
       "      <td>NaN</td>\n",
       "      <td>1</td>\n",
       "      <td>NaN</td>\n",
       "      <td>NaN</td>\n",
       "      <td>Rhaenyra Targaryen</td>\n",
       "      <td>Daemon Targaryen</td>\n",
       "      <td>Aegon IV Targaryen</td>\n",
       "      <td>NaN</td>\n",
       "      <td>NaN</td>\n",
       "      <td>...</td>\n",
       "      <td>1.0</td>\n",
       "      <td>0.0</td>\n",
       "      <td>0.0</td>\n",
       "      <td>NaN</td>\n",
       "      <td>0</td>\n",
       "      <td>0</td>\n",
       "      <td>NaN</td>\n",
       "      <td>11</td>\n",
       "      <td>0.605351</td>\n",
       "      <td>0</td>\n",
       "    </tr>\n",
       "    <tr>\n",
       "      <th>2</th>\n",
       "      <td>Walder Frey</td>\n",
       "      <td>Lord of the Crossing</td>\n",
       "      <td>1</td>\n",
       "      <td>Rivermen</td>\n",
       "      <td>208.0</td>\n",
       "      <td>NaN</td>\n",
       "      <td>NaN</td>\n",
       "      <td>NaN</td>\n",
       "      <td>House Frey</td>\n",
       "      <td>Perra Royce</td>\n",
       "      <td>...</td>\n",
       "      <td>NaN</td>\n",
       "      <td>NaN</td>\n",
       "      <td>NaN</td>\n",
       "      <td>1.0</td>\n",
       "      <td>1</td>\n",
       "      <td>1</td>\n",
       "      <td>97.0</td>\n",
       "      <td>1</td>\n",
       "      <td>0.896321</td>\n",
       "      <td>1</td>\n",
       "    </tr>\n",
       "    <tr>\n",
       "      <th>3</th>\n",
       "      <td>Addison Hill</td>\n",
       "      <td>Ser</td>\n",
       "      <td>1</td>\n",
       "      <td>NaN</td>\n",
       "      <td>NaN</td>\n",
       "      <td>NaN</td>\n",
       "      <td>NaN</td>\n",
       "      <td>NaN</td>\n",
       "      <td>House Swyft</td>\n",
       "      <td>NaN</td>\n",
       "      <td>...</td>\n",
       "      <td>NaN</td>\n",
       "      <td>NaN</td>\n",
       "      <td>NaN</td>\n",
       "      <td>NaN</td>\n",
       "      <td>0</td>\n",
       "      <td>1</td>\n",
       "      <td>NaN</td>\n",
       "      <td>0</td>\n",
       "      <td>0.267559</td>\n",
       "      <td>1</td>\n",
       "    </tr>\n",
       "    <tr>\n",
       "      <th>4</th>\n",
       "      <td>Aemma Arryn</td>\n",
       "      <td>Queen</td>\n",
       "      <td>0</td>\n",
       "      <td>NaN</td>\n",
       "      <td>82.0</td>\n",
       "      <td>NaN</td>\n",
       "      <td>NaN</td>\n",
       "      <td>NaN</td>\n",
       "      <td>House Arryn</td>\n",
       "      <td>Viserys I Targaryen</td>\n",
       "      <td>...</td>\n",
       "      <td>NaN</td>\n",
       "      <td>NaN</td>\n",
       "      <td>NaN</td>\n",
       "      <td>0.0</td>\n",
       "      <td>1</td>\n",
       "      <td>1</td>\n",
       "      <td>23.0</td>\n",
       "      <td>0</td>\n",
       "      <td>0.183946</td>\n",
       "      <td>0</td>\n",
       "    </tr>\n",
       "    <tr>\n",
       "      <th>5</th>\n",
       "      <td>Sylva Santagar</td>\n",
       "      <td>Greenstone</td>\n",
       "      <td>0</td>\n",
       "      <td>Dornish</td>\n",
       "      <td>276.0</td>\n",
       "      <td>NaN</td>\n",
       "      <td>NaN</td>\n",
       "      <td>NaN</td>\n",
       "      <td>House Santagar</td>\n",
       "      <td>Eldon Estermont</td>\n",
       "      <td>...</td>\n",
       "      <td>NaN</td>\n",
       "      <td>NaN</td>\n",
       "      <td>NaN</td>\n",
       "      <td>1.0</td>\n",
       "      <td>1</td>\n",
       "      <td>1</td>\n",
       "      <td>29.0</td>\n",
       "      <td>0</td>\n",
       "      <td>0.043478</td>\n",
       "      <td>1</td>\n",
       "    </tr>\n",
       "  </tbody>\n",
       "</table>\n",
       "<p>5 rows × 25 columns</p>\n",
       "</div>"
      ],
      "text/plain": [
       "                      name                 title  male   culture  dateOfBirth  \\\n",
       "S.No                                                                            \n",
       "1     Viserys II Targaryen                   NaN     1       NaN          NaN   \n",
       "2              Walder Frey  Lord of the Crossing     1  Rivermen        208.0   \n",
       "3             Addison Hill                   Ser     1       NaN          NaN   \n",
       "4              Aemma Arryn                 Queen     0       NaN         82.0   \n",
       "5           Sylva Santagar            Greenstone     0   Dornish        276.0   \n",
       "\n",
       "                  mother            father                heir  \\\n",
       "S.No                                                             \n",
       "1     Rhaenyra Targaryen  Daemon Targaryen  Aegon IV Targaryen   \n",
       "2                    NaN               NaN                 NaN   \n",
       "3                    NaN               NaN                 NaN   \n",
       "4                    NaN               NaN                 NaN   \n",
       "5                    NaN               NaN                 NaN   \n",
       "\n",
       "               house               spouse  ...  isAliveMother  isAliveFather  \\\n",
       "S.No                                       ...                                 \n",
       "1                NaN                  NaN  ...            1.0            0.0   \n",
       "2         House Frey          Perra Royce  ...            NaN            NaN   \n",
       "3        House Swyft                  NaN  ...            NaN            NaN   \n",
       "4        House Arryn  Viserys I Targaryen  ...            NaN            NaN   \n",
       "5     House Santagar      Eldon Estermont  ...            NaN            NaN   \n",
       "\n",
       "      isAliveHeir  isAliveSpouse  isMarried  isNoble   age  numDeadRelations  \\\n",
       "S.No                                                                           \n",
       "1             0.0            NaN          0        0   NaN                11   \n",
       "2             NaN            1.0          1        1  97.0                 1   \n",
       "3             NaN            NaN          0        1   NaN                 0   \n",
       "4             NaN            0.0          1        1  23.0                 0   \n",
       "5             NaN            1.0          1        1  29.0                 0   \n",
       "\n",
       "      popularity  isAlive  \n",
       "S.No                       \n",
       "1       0.605351        0  \n",
       "2       0.896321        1  \n",
       "3       0.267559        1  \n",
       "4       0.183946        0  \n",
       "5       0.043478        1  \n",
       "\n",
       "[5 rows x 25 columns]"
      ]
     },
     "execution_count": 150,
     "metadata": {},
     "output_type": "execute_result"
    }
   ],
   "source": [
    "data = pd.read_csv('content/game_of_thrones_train.csv', index_col='S.No')\n",
    "data.head()"
   ]
  },
  {
   "cell_type": "markdown",
   "metadata": {
    "id": "yGxgW2wIzBn8"
   },
   "source": [
    "Посмотрите, какие типы данных представлены в нашем датасете"
   ]
  },
  {
   "cell_type": "code",
   "execution_count": 3,
   "metadata": {
    "scrolled": true
   },
   "outputs": [
    {
     "name": "stdout",
     "output_type": "stream",
     "text": [
      "<class 'pandas.core.frame.DataFrame'>\n",
      "Index: 1557 entries, 1 to 1557\n",
      "Data columns (total 25 columns):\n",
      " #   Column            Non-Null Count  Dtype  \n",
      "---  ------            --------------  -----  \n",
      " 0   name              1557 non-null   object \n",
      " 1   title             717 non-null    object \n",
      " 2   male              1557 non-null   int64  \n",
      " 3   culture           488 non-null    object \n",
      " 4   dateOfBirth       279 non-null    float64\n",
      " 5   mother            18 non-null     object \n",
      " 6   father            22 non-null     object \n",
      " 7   heir              21 non-null     object \n",
      " 8   house             1176 non-null   object \n",
      " 9   spouse            200 non-null    object \n",
      " 10  book1             1557 non-null   int64  \n",
      " 11  book2             1557 non-null   int64  \n",
      " 12  book3             1557 non-null   int64  \n",
      " 13  book4             1557 non-null   int64  \n",
      " 14  book5             1557 non-null   int64  \n",
      " 15  isAliveMother     18 non-null     float64\n",
      " 16  isAliveFather     22 non-null     float64\n",
      " 17  isAliveHeir       21 non-null     float64\n",
      " 18  isAliveSpouse     200 non-null    float64\n",
      " 19  isMarried         1557 non-null   int64  \n",
      " 20  isNoble           1557 non-null   int64  \n",
      " 21  age               279 non-null    float64\n",
      " 22  numDeadRelations  1557 non-null   int64  \n",
      " 23  popularity        1557 non-null   float64\n",
      " 24  isAlive           1557 non-null   int64  \n",
      "dtypes: float64(7), int64(10), object(8)\n",
      "memory usage: 316.3+ KB\n"
     ]
    }
   ],
   "source": [
    "data.info()"
   ]
  },
  {
   "cell_type": "code",
   "execution_count": 4,
   "metadata": {
    "id": "GgfSIzK_zGUf"
   },
   "outputs": [
    {
     "data": {
      "text/html": [
       "<div>\n",
       "<style scoped>\n",
       "    .dataframe tbody tr th:only-of-type {\n",
       "        vertical-align: middle;\n",
       "    }\n",
       "\n",
       "    .dataframe tbody tr th {\n",
       "        vertical-align: top;\n",
       "    }\n",
       "\n",
       "    .dataframe thead th {\n",
       "        text-align: right;\n",
       "    }\n",
       "</style>\n",
       "<table border=\"1\" class=\"dataframe\">\n",
       "  <thead>\n",
       "    <tr style=\"text-align: right;\">\n",
       "      <th></th>\n",
       "      <th>count</th>\n",
       "      <th>unique</th>\n",
       "      <th>top</th>\n",
       "      <th>freq</th>\n",
       "    </tr>\n",
       "  </thead>\n",
       "  <tbody>\n",
       "    <tr>\n",
       "      <th>name</th>\n",
       "      <td>1557</td>\n",
       "      <td>1557</td>\n",
       "      <td>Melara Hetherspoon</td>\n",
       "      <td>1</td>\n",
       "    </tr>\n",
       "    <tr>\n",
       "      <th>title</th>\n",
       "      <td>717</td>\n",
       "      <td>195</td>\n",
       "      <td>Ser</td>\n",
       "      <td>306</td>\n",
       "    </tr>\n",
       "    <tr>\n",
       "      <th>culture</th>\n",
       "      <td>488</td>\n",
       "      <td>51</td>\n",
       "      <td>Northmen</td>\n",
       "      <td>94</td>\n",
       "    </tr>\n",
       "    <tr>\n",
       "      <th>mother</th>\n",
       "      <td>18</td>\n",
       "      <td>16</td>\n",
       "      <td>Rhaenyra Targaryen</td>\n",
       "      <td>2</td>\n",
       "    </tr>\n",
       "    <tr>\n",
       "      <th>father</th>\n",
       "      <td>22</td>\n",
       "      <td>19</td>\n",
       "      <td>Daemon Targaryen</td>\n",
       "      <td>2</td>\n",
       "    </tr>\n",
       "    <tr>\n",
       "      <th>heir</th>\n",
       "      <td>21</td>\n",
       "      <td>20</td>\n",
       "      <td>Jaehaerys Targaryen</td>\n",
       "      <td>2</td>\n",
       "    </tr>\n",
       "    <tr>\n",
       "      <th>house</th>\n",
       "      <td>1176</td>\n",
       "      <td>315</td>\n",
       "      <td>House Frey</td>\n",
       "      <td>89</td>\n",
       "    </tr>\n",
       "    <tr>\n",
       "      <th>spouse</th>\n",
       "      <td>200</td>\n",
       "      <td>186</td>\n",
       "      <td>Walder Frey</td>\n",
       "      <td>6</td>\n",
       "    </tr>\n",
       "  </tbody>\n",
       "</table>\n",
       "</div>"
      ],
      "text/plain": [
       "        count unique                  top freq\n",
       "name     1557   1557   Melara Hetherspoon    1\n",
       "title     717    195                  Ser  306\n",
       "culture   488     51             Northmen   94\n",
       "mother     18     16   Rhaenyra Targaryen    2\n",
       "father     22     19     Daemon Targaryen    2\n",
       "heir       21     20  Jaehaerys Targaryen    2\n",
       "house    1176    315           House Frey   89\n",
       "spouse    200    186          Walder Frey    6"
      ]
     },
     "execution_count": 4,
     "metadata": {},
     "output_type": "execute_result"
    }
   ],
   "source": [
    "data.describe(include = 'object').T"
   ]
  },
  {
   "cell_type": "markdown",
   "metadata": {
    "id": "8qs2WWwszH_0"
   },
   "source": [
    "Теперь давайте посмотрим на столбцы с числовыми типами данных. Дополните код ниже. Для удобства восприятия мы транспонировали таблицу и ограничили вывод тремя столбцами - количество строк без NaN, максимальное и минимальное значение (о кастомизации вариантах вывода describe() вы можете почитать в документации по ссылке выше).\n"
   ]
  },
  {
   "cell_type": "code",
   "execution_count": 5,
   "metadata": {
    "id": "Dl2Wfp3HzJkL"
   },
   "outputs": [
    {
     "data": {
      "text/html": [
       "<div>\n",
       "<style scoped>\n",
       "    .dataframe tbody tr th:only-of-type {\n",
       "        vertical-align: middle;\n",
       "    }\n",
       "\n",
       "    .dataframe tbody tr th {\n",
       "        vertical-align: top;\n",
       "    }\n",
       "\n",
       "    .dataframe thead th {\n",
       "        text-align: right;\n",
       "    }\n",
       "</style>\n",
       "<table border=\"1\" class=\"dataframe\">\n",
       "  <thead>\n",
       "    <tr style=\"text-align: right;\">\n",
       "      <th></th>\n",
       "      <th>count</th>\n",
       "      <th>min</th>\n",
       "      <th>max</th>\n",
       "    </tr>\n",
       "  </thead>\n",
       "  <tbody>\n",
       "    <tr>\n",
       "      <th>male</th>\n",
       "      <td>1557.0</td>\n",
       "      <td>0.0</td>\n",
       "      <td>1.0</td>\n",
       "    </tr>\n",
       "    <tr>\n",
       "      <th>dateOfBirth</th>\n",
       "      <td>279.0</td>\n",
       "      <td>-25.0</td>\n",
       "      <td>299.0</td>\n",
       "    </tr>\n",
       "    <tr>\n",
       "      <th>book1</th>\n",
       "      <td>1557.0</td>\n",
       "      <td>0.0</td>\n",
       "      <td>1.0</td>\n",
       "    </tr>\n",
       "    <tr>\n",
       "      <th>book2</th>\n",
       "      <td>1557.0</td>\n",
       "      <td>0.0</td>\n",
       "      <td>1.0</td>\n",
       "    </tr>\n",
       "    <tr>\n",
       "      <th>book3</th>\n",
       "      <td>1557.0</td>\n",
       "      <td>0.0</td>\n",
       "      <td>1.0</td>\n",
       "    </tr>\n",
       "    <tr>\n",
       "      <th>book4</th>\n",
       "      <td>1557.0</td>\n",
       "      <td>0.0</td>\n",
       "      <td>1.0</td>\n",
       "    </tr>\n",
       "    <tr>\n",
       "      <th>book5</th>\n",
       "      <td>1557.0</td>\n",
       "      <td>0.0</td>\n",
       "      <td>1.0</td>\n",
       "    </tr>\n",
       "    <tr>\n",
       "      <th>isAliveMother</th>\n",
       "      <td>18.0</td>\n",
       "      <td>0.0</td>\n",
       "      <td>1.0</td>\n",
       "    </tr>\n",
       "    <tr>\n",
       "      <th>isAliveFather</th>\n",
       "      <td>22.0</td>\n",
       "      <td>0.0</td>\n",
       "      <td>1.0</td>\n",
       "    </tr>\n",
       "    <tr>\n",
       "      <th>isAliveHeir</th>\n",
       "      <td>21.0</td>\n",
       "      <td>0.0</td>\n",
       "      <td>1.0</td>\n",
       "    </tr>\n",
       "    <tr>\n",
       "      <th>isAliveSpouse</th>\n",
       "      <td>200.0</td>\n",
       "      <td>0.0</td>\n",
       "      <td>1.0</td>\n",
       "    </tr>\n",
       "    <tr>\n",
       "      <th>isMarried</th>\n",
       "      <td>1557.0</td>\n",
       "      <td>0.0</td>\n",
       "      <td>1.0</td>\n",
       "    </tr>\n",
       "    <tr>\n",
       "      <th>isNoble</th>\n",
       "      <td>1557.0</td>\n",
       "      <td>0.0</td>\n",
       "      <td>1.0</td>\n",
       "    </tr>\n",
       "    <tr>\n",
       "      <th>age</th>\n",
       "      <td>279.0</td>\n",
       "      <td>0.0</td>\n",
       "      <td>100.0</td>\n",
       "    </tr>\n",
       "    <tr>\n",
       "      <th>numDeadRelations</th>\n",
       "      <td>1557.0</td>\n",
       "      <td>0.0</td>\n",
       "      <td>15.0</td>\n",
       "    </tr>\n",
       "    <tr>\n",
       "      <th>popularity</th>\n",
       "      <td>1557.0</td>\n",
       "      <td>0.0</td>\n",
       "      <td>1.0</td>\n",
       "    </tr>\n",
       "    <tr>\n",
       "      <th>isAlive</th>\n",
       "      <td>1557.0</td>\n",
       "      <td>0.0</td>\n",
       "      <td>1.0</td>\n",
       "    </tr>\n",
       "  </tbody>\n",
       "</table>\n",
       "</div>"
      ],
      "text/plain": [
       "                   count   min    max\n",
       "male              1557.0   0.0    1.0\n",
       "dateOfBirth        279.0 -25.0  299.0\n",
       "book1             1557.0   0.0    1.0\n",
       "book2             1557.0   0.0    1.0\n",
       "book3             1557.0   0.0    1.0\n",
       "book4             1557.0   0.0    1.0\n",
       "book5             1557.0   0.0    1.0\n",
       "isAliveMother       18.0   0.0    1.0\n",
       "isAliveFather       22.0   0.0    1.0\n",
       "isAliveHeir         21.0   0.0    1.0\n",
       "isAliveSpouse      200.0   0.0    1.0\n",
       "isMarried         1557.0   0.0    1.0\n",
       "isNoble           1557.0   0.0    1.0\n",
       "age                279.0   0.0  100.0\n",
       "numDeadRelations  1557.0   0.0   15.0\n",
       "popularity        1557.0   0.0    1.0\n",
       "isAlive           1557.0   0.0    1.0"
      ]
     },
     "execution_count": 5,
     "metadata": {},
     "output_type": "execute_result"
    }
   ],
   "source": [
    "data.describe(include = ['float64','int64']).T[['count', 'min', 'max']]"
   ]
  },
  {
   "cell_type": "markdown",
   "metadata": {
    "id": "44o-D4jzzLa3"
   },
   "source": [
    "Так мы проверим, есть ли в данных неадекватнные значения.   Большинство числовых столбцов - это числа от 0 до 1. Отрицательные значения `dateOfBirth` не являются ошибкой. Значения age и `numDeadRelations` также выглядят адекватными. Можно переходить к дальнейшим шагам анализа (анонс - а в тестовых данных нас будет ждать сюрприз)."
   ]
  },
  {
   "cell_type": "markdown",
   "metadata": {
    "id": "R_LA4J4fjBdY"
   },
   "source": [
    "**Задание 1.3.** Предобработка (очистка) данных.\n",
    "\n",
    "В нашем домашнем задании все пропуски в данных (missing values) уже закодированы как NaN. Проанализируйте, в каких колонках и как часто встречаются NaN значения. Далее вам надо будет принять решение, как их обрабатывать."
   ]
  },
  {
   "cell_type": "code",
   "execution_count": 6,
   "metadata": {
    "id": "1Tv0scrImXTM"
   },
   "outputs": [
    {
     "data": {
      "text/plain": [
       "name                   0\n",
       "title                840\n",
       "male                   0\n",
       "culture             1069\n",
       "dateOfBirth         1278\n",
       "mother              1539\n",
       "father              1535\n",
       "heir                1536\n",
       "house                381\n",
       "spouse              1357\n",
       "book1                  0\n",
       "book2                  0\n",
       "book3                  0\n",
       "book4                  0\n",
       "book5                  0\n",
       "isAliveMother       1539\n",
       "isAliveFather       1535\n",
       "isAliveHeir         1536\n",
       "isAliveSpouse       1357\n",
       "isMarried              0\n",
       "isNoble                0\n",
       "age                 1278\n",
       "numDeadRelations       0\n",
       "popularity             0\n",
       "isAlive                0\n",
       "dtype: int64"
      ]
     },
     "execution_count": 6,
     "metadata": {},
     "output_type": "execute_result"
    }
   ],
   "source": [
    "data.isna().sum(axis=0)"
   ]
  },
  {
   "cell_type": "markdown",
   "metadata": {
    "id": "RZF2MsGNza_C"
   },
   "source": [
    "В этом задании удалять строки с NaN (dropna) мы не будем по следующим причинам:\n",
    "- в обучающем датасете много признаков с большим количество пропусков. Если удалять все строки с NaN, то размер выборки сильно уменьшится. Мы потеряем много данных, которые можно было бы использовать для построения более точной модели.\n",
    "- тестовом датасете также много признаков с NaN (вы можете в этом убедиться, если скачаете датасет и совершите с ним те же действия, что выше проделали с обучаюшим датасетом). Поэтому нам все-равно придется придумать способ кодировать NaN, чтобы модель делала прогнозы для всех персонажей из тестового датасета. Для этого нам потребуется сохранять, а не удалять данные в обучающем датасете.     \n",
    "\n"
   ]
  },
  {
   "cell_type": "markdown",
   "metadata": {
    "id": "wgnKotTkjdOh"
   },
   "source": [
    "**Задание 1.4.** Числовые признаки\n",
    "\n",
    "У нас есть **признак popularity**. Постройте гистограмму распределения данного признака с количеством интервалов (bins), равным 50 (https://pandas.pydata.org/pandas-docs/stable/reference/api/pandas.DataFrame.hist.html)"
   ]
  },
  {
   "cell_type": "code",
   "execution_count": 7,
   "metadata": {
    "id": "yUf1lDkUMH_W"
   },
   "outputs": [
    {
     "data": {
      "image/png": "[encoded data removed]",
      "text/plain": [
       "<Figure size 640x480 with 1 Axes>"
      ]
     },
     "metadata": {},
     "output_type": "display_data"
    }
   ],
   "source": [
    "hist = data['popularity'].hist(bins=50)"
   ]
  },
  {
   "cell_type": "markdown",
   "metadata": {
    "id": "cTzRK5-WMI9_"
   },
   "source": [
    "Распределение сильно несимметрично. Можно преобразовать данный признак, например, по формуле `np.log10(data[\"popularity\"]*M+1)` (добавляем 1 ради логарифма, так как для нектоторых персонажей `popularity==0`). В качестве M можно попробовать, например, M=100 или другое число.\n",
    "\n",
    "При желании для `popularity` вы можете использовать свой способ шкалирования признаков с несимметричным распределением.\n"
   ]
  },
  {
   "cell_type": "code",
   "execution_count": 8,
   "metadata": {
    "id": "c84vktGL39dH"
   },
   "outputs": [
    {
     "data": {
      "text/plain": [
       "<Axes: >"
      ]
     },
     "execution_count": 8,
     "metadata": {},
     "output_type": "execute_result"
    },
    {
     "data": {
      "image/png": "[encoded data removed]",
      "text/plain": [
       "<Figure size 640x480 with 1 Axes>"
      ]
     },
     "metadata": {},
     "output_type": "display_data"
    }
   ],
   "source": [
    "data['popularity'] = np.log10(data['popularity'] * 100 + 1)\n",
    "data['popularity'].hist(bins=50)"
   ]
  },
  {
   "cell_type": "markdown",
   "metadata": {
    "id": "QBPzcz8yV_9-"
   },
   "source": [
    "В качестве альтернативного подхода вы можете попробовать дискретизацию признака popularity на основе квантилей (quantile binning), используя функцию qcut() (https://pandas.pydata.org/pandas-docs/stable/reference/api/pandas.qcut.html). В этом случае вы преобразуете числовой признак popularity в категориальный, для которого в дальнейшем надо будет применить one-hot кодирование."
   ]
  },
  {
   "cell_type": "code",
   "execution_count": 10,
   "metadata": {
    "id": "dycgZYCRC3wW"
   },
   "outputs": [
    {
     "data": {
      "text/plain": [
       "numDeadRelations\n",
       "0     1488\n",
       "1       24\n",
       "5       10\n",
       "7        7\n",
       "4        7\n",
       "3        4\n",
       "10       4\n",
       "2        4\n",
       "6        3\n",
       "8        2\n",
       "12       1\n",
       "11       1\n",
       "15       1\n",
       "9        1\n",
       "Name: count, dtype: int64"
      ]
     },
     "execution_count": 10,
     "metadata": {},
     "output_type": "execute_result"
    }
   ],
   "source": [
    "data['numDeadRelations'].value_counts()"
   ]
  },
  {
   "cell_type": "code",
   "execution_count": 11,
   "metadata": {},
   "outputs": [
    {
     "data": {
      "text/plain": [
       "boolDeadRelations\n",
       "0    1488\n",
       "1      69\n",
       "Name: count, dtype: int64"
      ]
     },
     "execution_count": 11,
     "metadata": {},
     "output_type": "execute_result"
    }
   ],
   "source": [
    "data['boolDeadRelations'] = (data['numDeadRelations'] > 0).astype(int)\n",
    "data['boolDeadRelations'].value_counts()"
   ]
  },
  {
   "cell_type": "code",
   "execution_count": 12,
   "metadata": {},
   "outputs": [
    {
     "data": {
      "text/plain": [
       "age\n",
       "100.0    20\n",
       "19.0     12\n",
       "15.0     11\n",
       "16.0     11\n",
       "20.0     11\n",
       "         ..\n",
       "33.0      1\n",
       "86.0      1\n",
       "80.0      1\n",
       "58.0      1\n",
       "77.0      1\n",
       "Name: count, Length: 72, dtype: int64"
      ]
     },
     "execution_count": 12,
     "metadata": {},
     "output_type": "execute_result"
    }
   ],
   "source": [
    "data['age'].value_counts()"
   ]
  },
  {
   "cell_type": "code",
   "execution_count": 14,
   "metadata": {
    "id": "e5zP6ubj3bwb"
   },
   "outputs": [],
   "source": [
    "data['age_value'] = data['age'].fillna(0)\n",
    "data['age_no_data'] = [1 if np.isnan(x) else 0 for x in data['age']]"
   ]
  },
  {
   "cell_type": "code",
   "execution_count": 15,
   "metadata": {},
   "outputs": [
    {
     "data": {
      "text/plain": [
       "age_value\n",
       "0.0      1280\n",
       "100.0      20\n",
       "19.0       12\n",
       "16.0       11\n",
       "20.0       11\n",
       "         ... \n",
       "33.0        1\n",
       "86.0        1\n",
       "80.0        1\n",
       "58.0        1\n",
       "77.0        1\n",
       "Name: count, Length: 72, dtype: int64"
      ]
     },
     "execution_count": 15,
     "metadata": {},
     "output_type": "execute_result"
    }
   ],
   "source": [
    "data['age_value'].value_counts()"
   ]
  },
  {
   "cell_type": "markdown",
   "metadata": {
    "id": "lRFySlZE3H_R"
   },
   "source": [
    "Этот способ чем-то похож на работу с категориальной переменными с пропущенными значениями, когда мы добавляем еще одну категорию no_data и заменяем NaN на значение этой категории."
   ]
  },
  {
   "cell_type": "markdown",
   "metadata": {
    "id": "83jAOKc_HSnF"
   },
   "source": [
    "**Задание 1.5.** Категориальные признаки с большим количеством категорий"
   ]
  },
  {
   "cell_type": "markdown",
   "metadata": {
    "id": "PeNP6O6QC1az"
   },
   "source": [
    "**Признак culture** содержит информацию о принадлежности к одному из народов во вселенной Игры Престолов.\n",
    "\n",
    "Давайте посмотрим, какие значения принимает данный признак. По умолчанию метод `value_counts()` игнорирует пропуски в данных, поэтому используем этот метод с параметром **dropna** со значением **False** (см. https://pandas.pydata.org/pandas-docs/stable/reference/api/pandas.DataFrame.value_counts.html)"
   ]
  },
  {
   "cell_type": "code",
   "execution_count": 16,
   "metadata": {
    "id": "Pzc5a4enmYtn",
    "scrolled": true
   },
   "outputs": [
    {
     "data": {
      "text/plain": [
       "culture\n",
       "NaN                        1069\n",
       "Northmen                     94\n",
       "Ironborn                     91\n",
       "Free Folk                    45\n",
       "Braavosi                     39\n",
       "Valyrian                     28\n",
       "Ghiscari                     17\n",
       "Dornish                      17\n",
       "Dothraki                     17\n",
       "Reach                        13\n",
       "Vale mountain clans          12\n",
       "Rivermen                     10\n",
       "Valemen                      10\n",
       "northmen                      9\n",
       "Westerman                     8\n",
       "Free folk                     7\n",
       "Tyroshi                       6\n",
       "Qartheen                      5\n",
       "Stormlands                    4\n",
       "Summer Isles                  4\n",
       "Astapori                      4\n",
       "Westeros                      3\n",
       "Dornishmen                    3\n",
       "Ironmen                       3\n",
       "Northern mountain clans       3\n",
       "Westermen                     3\n",
       "Lysene                        2\n",
       "westermen                     2\n",
       "Meereenese                    2\n",
       "Myrish                        2\n",
       "Crannogmen                    2\n",
       "Sistermen                     2\n",
       "First Men                     2\n",
       "Lhazarene                     1\n",
       "Norvoshi                      1\n",
       "Qohor                         1\n",
       "Braavos                       1\n",
       "Ghiscaricari                  1\n",
       "ironborn                      1\n",
       "Andal                         1\n",
       "Lyseni                        1\n",
       "Qarth                         1\n",
       "Andals                        1\n",
       "Lhazareen                     1\n",
       "Vale                          1\n",
       "Wildling                      1\n",
       "Dorne                         1\n",
       "Pentoshi                      1\n",
       "free folk                     1\n",
       "Summer Islander               1\n",
       "Westerlands                   1\n",
       "Summer Islands                1\n",
       "Name: count, dtype: int64"
      ]
     },
     "execution_count": 16,
     "metadata": {},
     "output_type": "execute_result"
    }
   ],
   "source": [
    "data['culture'].value_counts(dropna=False)"
   ]
  },
  {
   "cell_type": "code",
   "execution_count": 17,
   "metadata": {
    "id": "jNIQ_iJDLLcp"
   },
   "outputs": [],
   "source": [
    "cultures_grouped = {\n",
    "    'Old Nations': ['valyrian', 'first men', 'andal', 'andals', 'rhoynar'],\n",
    "    'the North': ['northmen', 'northern mountain clans', 'crannogmen'],\n",
    "    'the Iron Islands': ['ironborn', 'ironborn', 'ironmen'],\n",
    "    'the Mountain and the Vale': ['valemen', 'vale', 'vale mountain clans',\n",
    "                              'sistermen'],\n",
    "    'the Isles and Rivers': ['riverlands', 'rivermen'],\n",
    "    'the Rock': ['westerman', 'westermen', 'westerlands'],\n",
    "    'the Stormlands': ['stormlander', 'stormlands'],\n",
    "    'the Reach': ['reach', 'reachmen', 'the reach'],\n",
    "    'Dorne': ['dornish', 'dornishmen', 'dorne'],\n",
    "    'Essos Nations': ['astapor', 'astapori', 'braavosi', 'braavos', 'tyroshi', 'lysene', 'lyseni',\n",
    "                      'myrish', 'pentoshi', 'qartheen', 'qarth', 'dothraki',\n",
    "                      'lhazarene', 'lhazareen','meereen', 'meereenese',\n",
    "                      'norvoshi', 'qohor', 'summer isles', 'summer islands',\n",
    "                      'summer islander', 'asshai', \"asshai'i\", 'norvos', 'ghiscari',\n",
    "                      'ghiscaricari'],\n",
    "    'Other Nations': ['ibbenese', 'westeros', 'free folk', 'wildling', 'wildlings', 'naathi']}"
   ]
  },
  {
   "cell_type": "markdown",
   "metadata": {
    "id": "JmPJejhAYPA6"
   },
   "source": [
    "Давайте приступим к кодировке значений признака culture.\n",
    "Для этого сначала инвертируем словарь *cultures_grouped*"
   ]
  },
  {
   "cell_type": "code",
   "execution_count": 18,
   "metadata": {
    "id": "wV4AUzNGbVvj",
    "scrolled": true
   },
   "outputs": [
    {
     "data": {
      "text/plain": [
       "{'valyrian': 'Old Nations',\n",
       " 'first men': 'Old Nations',\n",
       " 'andal': 'Old Nations',\n",
       " 'andals': 'Old Nations',\n",
       " 'rhoynar': 'Old Nations',\n",
       " 'northmen': 'the North',\n",
       " 'northern mountain clans': 'the North',\n",
       " 'crannogmen': 'the North',\n",
       " 'ironborn': 'the Iron Islands',\n",
       " 'ironmen': 'the Iron Islands',\n",
       " 'valemen': 'the Mountain and the Vale',\n",
       " 'vale': 'the Mountain and the Vale',\n",
       " 'vale mountain clans': 'the Mountain and the Vale',\n",
       " 'sistermen': 'the Mountain and the Vale',\n",
       " 'riverlands': 'the Isles and Rivers',\n",
       " 'rivermen': 'the Isles and Rivers',\n",
       " 'westerman': 'the Rock',\n",
       " 'westermen': 'the Rock',\n",
       " 'westerlands': 'the Rock',\n",
       " 'stormlander': 'the Stormlands',\n",
       " 'stormlands': 'the Stormlands',\n",
       " 'reach': 'the Reach',\n",
       " 'reachmen': 'the Reach',\n",
       " 'the reach': 'the Reach',\n",
       " 'dornish': 'Dorne',\n",
       " 'dornishmen': 'Dorne',\n",
       " 'dorne': 'Dorne',\n",
       " 'astapor': 'Essos Nations',\n",
       " 'astapori': 'Essos Nations',\n",
       " 'braavosi': 'Essos Nations',\n",
       " 'braavos': 'Essos Nations',\n",
       " 'tyroshi': 'Essos Nations',\n",
       " 'lysene': 'Essos Nations',\n",
       " 'lyseni': 'Essos Nations',\n",
       " 'myrish': 'Essos Nations',\n",
       " 'pentoshi': 'Essos Nations',\n",
       " 'qartheen': 'Essos Nations',\n",
       " 'qarth': 'Essos Nations',\n",
       " 'dothraki': 'Essos Nations',\n",
       " 'lhazarene': 'Essos Nations',\n",
       " 'lhazareen': 'Essos Nations',\n",
       " 'meereen': 'Essos Nations',\n",
       " 'meereenese': 'Essos Nations',\n",
       " 'norvoshi': 'Essos Nations',\n",
       " 'qohor': 'Essos Nations',\n",
       " 'summer isles': 'Essos Nations',\n",
       " 'summer islands': 'Essos Nations',\n",
       " 'summer islander': 'Essos Nations',\n",
       " 'asshai': 'Essos Nations',\n",
       " \"asshai'i\": 'Essos Nations',\n",
       " 'norvos': 'Essos Nations',\n",
       " 'ghiscari': 'Essos Nations',\n",
       " 'ghiscaricari': 'Essos Nations',\n",
       " 'ibbenese': 'Other Nations',\n",
       " 'westeros': 'Other Nations',\n",
       " 'free folk': 'Other Nations',\n",
       " 'wildling': 'Other Nations',\n",
       " 'wildlings': 'Other Nations',\n",
       " 'naathi': 'Other Nations'}"
      ]
     },
     "execution_count": 18,
     "metadata": {},
     "output_type": "execute_result"
    }
   ],
   "source": [
    "# По аналогии с примером выше инвертируйте словарь cultures_grouped\n",
    "cultures_grouped_inverted = {}\n",
    "for k in cultures_grouped.keys():\n",
    "    for v in cultures_grouped[k]:\n",
    "        cultures_grouped_inverted.update({v:k})\n",
    "        \n",
    "cultures_grouped_inverted"
   ]
  },
  {
   "cell_type": "markdown",
   "metadata": {
    "id": "LWb_JAyxfrXF"
   },
   "source": [
    "Теперь создадим новый столбец с укрупненными значениями culture.\n",
    "\n",
    "Для этого будем использовать метод `map()` с инвертированным словарем в качестве аргумента (https://pandas.pydata.org/docs/reference/api/pandas.DataFrame.map.html)\n",
    "\n",
    "Обратите внимание, что в словаре названия народов указаны в нижнем регистре. А в датасете используется как нижний, так и верхний регистр. Поэтому перед применением метода `map()` переведем значения столбца culture в нижний регистр при помощи метода `str.lower()` (https://pandas.pydata.org/pandas-docs/stable/reference/api/pandas.Series.str.lower.html)."
   ]
  },
  {
   "cell_type": "code",
   "execution_count": 19,
   "metadata": {
    "id": "MUHfZgdDjDwU"
   },
   "outputs": [],
   "source": [
    "data['culture_grouped'] = data['culture'].str.lower().map(cultures_grouped_inverted)"
   ]
  },
  {
   "cell_type": "code",
   "execution_count": 22,
   "metadata": {},
   "outputs": [
    {
     "data": {
      "text/plain": [
       "array(['Dorne', 'Essos Nations', 'Old Nations', 'Other Nations',\n",
       "       'culture_no_data', 'the Iron Islands', 'the Isles and Rivers',\n",
       "       'the Mountain and the Vale', 'the North', 'the Reach', 'the Rock',\n",
       "       'the Stormlands'], dtype=object)"
      ]
     },
     "execution_count": 22,
     "metadata": {},
     "output_type": "execute_result"
    }
   ],
   "source": [
    "np.unique(data['culture_grouped'])"
   ]
  },
  {
   "cell_type": "markdown",
   "metadata": {
    "id": "Nj9vjUgwjHZM"
   },
   "source": [
    "Осталось заменить все NaN в созданном столбце на категорию `culture_no_data`:"
   ]
  },
  {
   "cell_type": "code",
   "execution_count": 21,
   "metadata": {
    "id": "GlckW9bmbs7a"
   },
   "outputs": [],
   "source": [
    "data['culture_grouped']=data['culture_grouped'].fillna('culture_no_data')"
   ]
  },
  {
   "cell_type": "code",
   "execution_count": 23,
   "metadata": {},
   "outputs": [
    {
     "data": {
      "text/plain": [
       "culture_grouped\n",
       "culture_no_data              1069\n",
       "Essos Nations                 109\n",
       "the North                     108\n",
       "the Iron Islands               95\n",
       "Other Nations                  57\n",
       "Old Nations                    32\n",
       "the Mountain and the Vale      25\n",
       "Dorne                          21\n",
       "the Rock                       14\n",
       "the Reach                      13\n",
       "the Isles and Rivers           10\n",
       "the Stormlands                  4\n",
       "Name: count, dtype: int64"
      ]
     },
     "execution_count": 23,
     "metadata": {},
     "output_type": "execute_result"
    }
   ],
   "source": [
    "data['culture_grouped'].value_counts()"
   ]
  },
  {
   "cell_type": "markdown",
   "metadata": {
    "id": "lc16QxpykMX3"
   },
   "source": [
    "**Задание 1.6.** Категориальные признаки в линейных моделях\n",
    "\n",
    "Для включения категориальных признаков в линейную модель их нужно преобразовать в числовые признаки.\n",
    "\n",
    "Если признак принимает одно из двух возможных значений (например, персонаж \"появляется\" или \"не появляется\" в 1-й книге), он напрямую кодируется в бинарный признак (\"появляется\" -> 1, \"не появляется\" -> 0). Если признак принимает больше двух значений, его можно преобразовать в несколько бинарных при помощи one-hot преобразования. В некоторых случаях бывает полезно объединить некоторые категории, как мы это поступили с признаком *culture*.\n",
    "\n",
    "Порядковых признаков у нас в задаче нет, поэтому рассматривать их здесь мы не будем."
   ]
  },
  {
   "cell_type": "code",
   "execution_count": 24,
   "metadata": {
    "id": "POOBeM420VIX",
    "scrolled": true
   },
   "outputs": [
    {
     "data": {
      "text/plain": [
       "name                 1557\n",
       "title                 195\n",
       "male                    2\n",
       "culture                51\n",
       "dateOfBirth           105\n",
       "mother                 16\n",
       "father                 19\n",
       "heir                   20\n",
       "house                 315\n",
       "spouse                186\n",
       "book1                   2\n",
       "book2                   2\n",
       "book3                   2\n",
       "book4                   2\n",
       "book5                   2\n",
       "isAliveMother           2\n",
       "isAliveFather           2\n",
       "isAliveHeir             2\n",
       "isAliveSpouse           2\n",
       "isMarried               2\n",
       "isNoble                 2\n",
       "age                    72\n",
       "numDeadRelations       14\n",
       "popularity            117\n",
       "isAlive                 2\n",
       "boolDeadRelations       2\n",
       "age_value              72\n",
       "age_no_data             2\n",
       "culture_grouped        12\n",
       "dtype: int64"
      ]
     },
     "execution_count": 24,
     "metadata": {},
     "output_type": "execute_result"
    }
   ],
   "source": [
    "# Количество уникальнх значений в каждом столбце\n",
    "data.nunique()"
   ]
  },
  {
   "cell_type": "code",
   "execution_count": 25,
   "metadata": {
    "id": "ou3oCHoA0Wh5",
    "scrolled": true
   },
   "outputs": [
    {
     "data": {
      "text/html": [
       "<div>\n",
       "<style scoped>\n",
       "    .dataframe tbody tr th:only-of-type {\n",
       "        vertical-align: middle;\n",
       "    }\n",
       "\n",
       "    .dataframe tbody tr th {\n",
       "        vertical-align: top;\n",
       "    }\n",
       "\n",
       "    .dataframe thead th {\n",
       "        text-align: right;\n",
       "    }\n",
       "</style>\n",
       "<table border=\"1\" class=\"dataframe\">\n",
       "  <thead>\n",
       "    <tr style=\"text-align: right;\">\n",
       "      <th></th>\n",
       "      <th>count</th>\n",
       "      <th>min</th>\n",
       "      <th>max</th>\n",
       "      <th>N_unique_values</th>\n",
       "    </tr>\n",
       "  </thead>\n",
       "  <tbody>\n",
       "    <tr>\n",
       "      <th>male</th>\n",
       "      <td>1557.0</td>\n",
       "      <td>0.0</td>\n",
       "      <td>1.000000</td>\n",
       "      <td>2</td>\n",
       "    </tr>\n",
       "    <tr>\n",
       "      <th>dateOfBirth</th>\n",
       "      <td>279.0</td>\n",
       "      <td>-25.0</td>\n",
       "      <td>299.000000</td>\n",
       "      <td>105</td>\n",
       "    </tr>\n",
       "    <tr>\n",
       "      <th>book1</th>\n",
       "      <td>1557.0</td>\n",
       "      <td>0.0</td>\n",
       "      <td>1.000000</td>\n",
       "      <td>2</td>\n",
       "    </tr>\n",
       "    <tr>\n",
       "      <th>book2</th>\n",
       "      <td>1557.0</td>\n",
       "      <td>0.0</td>\n",
       "      <td>1.000000</td>\n",
       "      <td>2</td>\n",
       "    </tr>\n",
       "    <tr>\n",
       "      <th>book3</th>\n",
       "      <td>1557.0</td>\n",
       "      <td>0.0</td>\n",
       "      <td>1.000000</td>\n",
       "      <td>2</td>\n",
       "    </tr>\n",
       "    <tr>\n",
       "      <th>book4</th>\n",
       "      <td>1557.0</td>\n",
       "      <td>0.0</td>\n",
       "      <td>1.000000</td>\n",
       "      <td>2</td>\n",
       "    </tr>\n",
       "    <tr>\n",
       "      <th>book5</th>\n",
       "      <td>1557.0</td>\n",
       "      <td>0.0</td>\n",
       "      <td>1.000000</td>\n",
       "      <td>2</td>\n",
       "    </tr>\n",
       "    <tr>\n",
       "      <th>isAliveMother</th>\n",
       "      <td>18.0</td>\n",
       "      <td>0.0</td>\n",
       "      <td>1.000000</td>\n",
       "      <td>2</td>\n",
       "    </tr>\n",
       "    <tr>\n",
       "      <th>isAliveFather</th>\n",
       "      <td>22.0</td>\n",
       "      <td>0.0</td>\n",
       "      <td>1.000000</td>\n",
       "      <td>2</td>\n",
       "    </tr>\n",
       "    <tr>\n",
       "      <th>isAliveHeir</th>\n",
       "      <td>21.0</td>\n",
       "      <td>0.0</td>\n",
       "      <td>1.000000</td>\n",
       "      <td>2</td>\n",
       "    </tr>\n",
       "    <tr>\n",
       "      <th>isAliveSpouse</th>\n",
       "      <td>200.0</td>\n",
       "      <td>0.0</td>\n",
       "      <td>1.000000</td>\n",
       "      <td>2</td>\n",
       "    </tr>\n",
       "    <tr>\n",
       "      <th>isMarried</th>\n",
       "      <td>1557.0</td>\n",
       "      <td>0.0</td>\n",
       "      <td>1.000000</td>\n",
       "      <td>2</td>\n",
       "    </tr>\n",
       "    <tr>\n",
       "      <th>isNoble</th>\n",
       "      <td>1557.0</td>\n",
       "      <td>0.0</td>\n",
       "      <td>1.000000</td>\n",
       "      <td>2</td>\n",
       "    </tr>\n",
       "    <tr>\n",
       "      <th>age</th>\n",
       "      <td>279.0</td>\n",
       "      <td>0.0</td>\n",
       "      <td>100.000000</td>\n",
       "      <td>72</td>\n",
       "    </tr>\n",
       "    <tr>\n",
       "      <th>numDeadRelations</th>\n",
       "      <td>1557.0</td>\n",
       "      <td>0.0</td>\n",
       "      <td>15.000000</td>\n",
       "      <td>14</td>\n",
       "    </tr>\n",
       "    <tr>\n",
       "      <th>popularity</th>\n",
       "      <td>1557.0</td>\n",
       "      <td>0.0</td>\n",
       "      <td>2.004321</td>\n",
       "      <td>117</td>\n",
       "    </tr>\n",
       "    <tr>\n",
       "      <th>isAlive</th>\n",
       "      <td>1557.0</td>\n",
       "      <td>0.0</td>\n",
       "      <td>1.000000</td>\n",
       "      <td>2</td>\n",
       "    </tr>\n",
       "    <tr>\n",
       "      <th>boolDeadRelations</th>\n",
       "      <td>1557.0</td>\n",
       "      <td>0.0</td>\n",
       "      <td>1.000000</td>\n",
       "      <td>2</td>\n",
       "    </tr>\n",
       "    <tr>\n",
       "      <th>age_value</th>\n",
       "      <td>1557.0</td>\n",
       "      <td>0.0</td>\n",
       "      <td>100.000000</td>\n",
       "      <td>72</td>\n",
       "    </tr>\n",
       "    <tr>\n",
       "      <th>age_no_data</th>\n",
       "      <td>1557.0</td>\n",
       "      <td>0.0</td>\n",
       "      <td>1.000000</td>\n",
       "      <td>2</td>\n",
       "    </tr>\n",
       "  </tbody>\n",
       "</table>\n",
       "</div>"
      ],
      "text/plain": [
       "                    count   min         max  N_unique_values\n",
       "male               1557.0   0.0    1.000000                2\n",
       "dateOfBirth         279.0 -25.0  299.000000              105\n",
       "book1              1557.0   0.0    1.000000                2\n",
       "book2              1557.0   0.0    1.000000                2\n",
       "book3              1557.0   0.0    1.000000                2\n",
       "book4              1557.0   0.0    1.000000                2\n",
       "book5              1557.0   0.0    1.000000                2\n",
       "isAliveMother        18.0   0.0    1.000000                2\n",
       "isAliveFather        22.0   0.0    1.000000                2\n",
       "isAliveHeir          21.0   0.0    1.000000                2\n",
       "isAliveSpouse       200.0   0.0    1.000000                2\n",
       "isMarried          1557.0   0.0    1.000000                2\n",
       "isNoble            1557.0   0.0    1.000000                2\n",
       "age                 279.0   0.0  100.000000               72\n",
       "numDeadRelations   1557.0   0.0   15.000000               14\n",
       "popularity         1557.0   0.0    2.004321              117\n",
       "isAlive            1557.0   0.0    1.000000                2\n",
       "boolDeadRelations  1557.0   0.0    1.000000                2\n",
       "age_value          1557.0   0.0  100.000000               72\n",
       "age_no_data        1557.0   0.0    1.000000                2"
      ]
     },
     "execution_count": 25,
     "metadata": {},
     "output_type": "execute_result"
    }
   ],
   "source": [
    "# Для числовых столбцов можно вывести в одну таблицу более детальную статистику, объединив выводы describe() и nunique()\n",
    "# Код ниже требуется дополнить по аналогии с заданием 1.2.\n",
    "data.describe(include = ['float64','int64']).T[['count', 'min', 'max']].assign(N_unique_values = data.nunique())"
   ]
  },
  {
   "cell_type": "code",
   "execution_count": 40,
   "metadata": {
    "id": "zF8mV0z00gJ6"
   },
   "outputs": [
    {
     "data": {
      "text/plain": [
       "isAliveSpouse\n",
       "0.0    0.619048\n",
       "1.0    0.753165\n",
       "NaN    0.786293\n",
       "Name: isAlive, dtype: float64"
      ]
     },
     "execution_count": 40,
     "metadata": {},
     "output_type": "execute_result"
    }
   ],
   "source": [
    "# попробуйте провести сравнение средних зависимой пременной isAlive для признака isAliveSpouse\n",
    "# одним из приведенных ниже способов:\n",
    "\n",
    "data.groupby('isAliveSpouse', dropna = False)['isAlive'].mean()\n",
    "# pd.pivot_table(data = data, values = 'isAlive', index = 'popularity', aggfunc=['mean', 'count'], dropna=False)"
   ]
  },
  {
   "cell_type": "markdown",
   "metadata": {
    "id": "95mWoYcsk9Pp"
   },
   "source": [
    "**Задание 1.7.** Проанализируйте признаки.\n",
    "  * Обработайте категориальные признаки и переведите их в числа. Можете выбрать любой кодировщик. Не забудьте, что потом аналогичным образом вам надо будет преобразовывать тестовый датасет, используя тот же алгоритм кодирования признаков.\n",
    "  * Проанализируйте количественные признаки. Есть ли корреляция между признаками?"
   ]
  },
  {
   "cell_type": "code",
   "execution_count": 28,
   "metadata": {
    "scrolled": true
   },
   "outputs": [
    {
     "data": {
      "text/plain": [
       "Index(['name', 'title', 'male', 'culture', 'dateOfBirth', 'mother', 'father',\n",
       "       'heir', 'house', 'spouse', 'book1', 'book2', 'book3', 'book4', 'book5',\n",
       "       'isAliveMother', 'isAliveFather', 'isAliveHeir', 'isAliveSpouse',\n",
       "       'isMarried', 'isNoble', 'age', 'numDeadRelations', 'popularity',\n",
       "       'isAlive', 'boolDeadRelations', 'age_value', 'age_no_data',\n",
       "       'culture_grouped'],\n",
       "      dtype='object')"
      ]
     },
     "execution_count": 28,
     "metadata": {},
     "output_type": "execute_result"
    }
   ],
   "source": [
    "data.columns"
   ]
  },
  {
   "cell_type": "markdown",
   "metadata": {},
   "source": [
    "Обработка признака **Title**"
   ]
  },
  {
   "cell_type": "code",
   "execution_count": 29,
   "metadata": {
    "id": "oRvPBbyUm0Je",
    "scrolled": true
   },
   "outputs": [
    {
     "data": {
      "text/plain": [
       "array(['Acorn Hall', 'Archmaester', 'Ashford', 'Banefort',\n",
       "       'Big BucketThe Wull', 'Bitterbridge', 'Blackcrown', 'Blackmont',\n",
       "       'Bloodrider', 'Blue Grace', 'Brightwater', 'Broad Arch', 'Brother',\n",
       "       'BrotherProctor', 'Captain', 'Captain of the guard', 'Castellan',\n",
       "       'CastellanCommander', 'Casterly Rock', 'Castle Lychester',\n",
       "       'Cerwyn', 'Chief Undergaoler', 'Claw Isle', 'Cobblecat',\n",
       "       'Coldmoat', 'Coldwater Burn', 'Commander of the Second Sons',\n",
       "       'Crag', 'Crakehall', 'Cupbearer', 'Deepwood Motte', 'Dragonstone',\n",
       "       'Duskendale', 'Dyre Den', 'Eastwatch-by-the-Sea', 'Eyrie',\n",
       "       'Fair Isle', 'Feastfires', 'Felwood', 'First Ranger',\n",
       "       'First Sword of Braavos', 'Foamdrinker', 'Ghost Hill', 'Godsgrace',\n",
       "       'Golden Tooth', 'Goldengrove', 'Goldgrass', 'Good Master',\n",
       "       'Goodman', 'Goodwife', 'Grand Maester', 'Grassy Vale',\n",
       "       'Greenshield', 'Greenstone', 'Grey Glen', 'Gulltown',\n",
       "       'Hand of the King', 'Harrenhal', 'Harridan Hill', 'Hayford',\n",
       "       \"Heart's Home\", 'High Steward of Highgarden', 'Highgarden',\n",
       "       'Hightower', 'Hornvale', 'Hornwood', 'Ironoaks', 'Karhold',\n",
       "       \"Karl's Hold\", 'Kayce', 'Khal', 'KhalKo (formerly)', 'Khalakka',\n",
       "       'King', 'King in the North', 'King of Astapor',\n",
       "       'King of the Andals', 'King of the Iron Islands',\n",
       "       'King-Beyond-the-Wall', 'Knight', \"Knight of Griffin's Roost\",\n",
       "       'Lady', 'Lady Marya', 'Lady of Darry', \"Lady of Torrhen's Square\",\n",
       "       'LadyQueen', 'LadyQueenDowager Queen', 'Last Hearth',\n",
       "       'Light of the West', 'Longbow Hall', 'Longsister', 'Lord',\n",
       "       \"Lord Commander of the Night's Watch\",\n",
       "       'Lord Paramount of the Mander', 'Lord Paramount of the Trident',\n",
       "       'Lord Reaper of Pyke', 'Lord Seneschal',\n",
       "       'Lord Steward of the Iron Islands', 'Lord of Atranta',\n",
       "       'Lord of Coldmoat', 'Lord of Crows Nest', 'Lord of Darry',\n",
       "       'Lord of Dragonstone', \"Lord of Flint's Finger\",\n",
       "       'Lord of Greyshield', 'Lord of Harrenhal', 'Lord of Hellholt',\n",
       "       'Lord of Honeyholt', 'Lord of Iron Holt', 'Lord of Kingsgrave',\n",
       "       'Lord of Oldcastle', 'Lord of Pebbleton', 'Lord of Southshield',\n",
       "       'Lord of Starfall', 'Lord of Sunflower Hall',\n",
       "       'Lord of the Crossing', 'Lord of the Deep Den',\n",
       "       'Lord of the Iron Islands', 'Lord of the Marches',\n",
       "       'Lord of the Red Dunes', 'Lord of the Snakewood',\n",
       "       'Lord of the Ten TowersLord Harlaw of HarlawHarlaw of Harlaw',\n",
       "       'Lord of the Tides', 'Lord of the Tor', 'Lordsport', 'Maester',\n",
       "       'Magister of Pentos', 'Maidenpool', 'Master of Coin',\n",
       "       'Master of Deepwood Motte', 'Master of Harlaw Hall',\n",
       "       'Master of coin', 'Master-at-Arms', 'Mistress of whisperers',\n",
       "       'Nightsong', 'No data', 'Oarmaster', 'Pinkmaiden', 'Prince',\n",
       "       'Prince of Dorne', 'Prince of Dragonstone', 'Prince of Winterfell',\n",
       "       'Princess', 'PrincessQueen', 'PrincessSepta',\n",
       "       'Protector of the Realm', 'Queen', 'QueenBlack Bride',\n",
       "       'Rain House', 'Red Flower Vale', 'Red Priest', 'Redfort', 'Rills',\n",
       "       'Riverrun', \"Rook's Rest\", 'Runestone', 'Salt Shore', 'Sandstone',\n",
       "       'Seagard', 'Sealord', 'Sealskin Point', 'Seneschal', 'Septa',\n",
       "       'Septon', 'Ser', 'Serthe Knight of Saltpans', 'Seven Kingdoms',\n",
       "       'Sharp Point', 'Shatterstone', 'Skyreach', 'Starpike', 'Steward',\n",
       "       'Stokeworth', 'Stonehelm', 'Strongsong', 'Sweetport Sound',\n",
       "       'Sweetsister', 'Ten Towers', 'The LiddleLord Liddle',\n",
       "       'Three Sisters', 'Three Towers', 'Tower of Glimmering',\n",
       "       'Tradesman-Captain', 'Undergaoler', 'Uplands', 'Volmark',\n",
       "       'Whitewalls', \"Widow's Watch\", 'Wind Witch', 'Winterfell',\n",
       "       'Wisdom', 'Wraith', 'Wyndhall', 'Yronwood', 'master of ships',\n",
       "       'red hand'], dtype=object)"
      ]
     },
     "execution_count": 29,
     "metadata": {},
     "output_type": "execute_result"
    }
   ],
   "source": [
    "np.unique(data['title'].fillna('No data'))"
   ]
  },
  {
   "cell_type": "code",
   "execution_count": 30,
   "metadata": {},
   "outputs": [
    {
     "name": "stderr",
     "output_type": "stream",
     "text": [
      "/var/folders/d3/wmmqppc90yqd4hftyc5nm_dr0000gn/T/ipykernel_92349/3057503213.py:1: FutureWarning: A value is trying to be set on a copy of a DataFrame or Series through chained assignment using an inplace method.\n",
      "The behavior will change in pandas 3.0. This inplace method will never work because the intermediate object on which we are setting values always behaves as a copy.\n",
      "\n",
      "For example, when doing 'df[col].method(value, inplace=True)', try using 'df.method({col: value}, inplace=True)' or df[col] = df[col].method(value) instead, to perform the operation inplace on the original object.\n",
      "\n",
      "\n",
      "  data['title'].fillna('NoData', inplace=True)\n"
     ]
    }
   ],
   "source": [
    "data['title'].fillna('NoData', inplace=True)\n",
    "data['isKing'] = (((data['title'].str.contains('king', case=False)) & ~ (data['title'].str.contains('lord', case=False)))| data['title'].isin(['Khal','KhalKo (formerly)'])).astype(int)\n",
    "data['isQueen']=(data['title'].str.contains('queen',case=False)).astype(int)\n",
    "data['isPrince']=((data['title'].str.contains('prince', case=False)) & (data['isQueen'] == 0)).astype(int)\n",
    "data['isLord']=(data['title'].str.contains('lord', case=False)).astype(int)"
   ]
  },
  {
   "cell_type": "markdown",
   "metadata": {},
   "source": [
    "Обработка признака **book**"
   ]
  },
  {
   "cell_type": "code",
   "execution_count": 86,
   "metadata": {},
   "outputs": [],
   "source": [
    "data['inBooks']=data.book1+data.book2+data.book3 +data.book4+data.book5"
   ]
  },
  {
   "cell_type": "markdown",
   "metadata": {},
   "source": [
    "Обработка признаков о семье"
   ]
  },
  {
   "cell_type": "code",
   "execution_count": 39,
   "metadata": {},
   "outputs": [],
   "source": [
    "data['mother_info'] = data['mother'].notna().astype(int)\n",
    "data['father_info'] = data['father'].notna().astype(int)\n",
    "data['spouse_info'] = data['spouse'].notna().astype(int)\n",
    "data['heir_info'] = data['heir'].notna().astype(int)"
   ]
  },
  {
   "cell_type": "markdown",
   "metadata": {},
   "source": [
    "Обработка признака **House**"
   ]
  },
  {
   "cell_type": "code",
   "execution_count": 42,
   "metadata": {},
   "outputs": [
    {
     "name": "stderr",
     "output_type": "stream",
     "text": [
      "/var/folders/d3/wmmqppc90yqd4hftyc5nm_dr0000gn/T/ipykernel_92349/1085788461.py:1: FutureWarning: A value is trying to be set on a copy of a DataFrame or Series through chained assignment using an inplace method.\n",
      "The behavior will change in pandas 3.0. This inplace method will never work because the intermediate object on which we are setting values always behaves as a copy.\n",
      "\n",
      "For example, when doing 'df[col].method(value, inplace=True)', try using 'df.method({col: value}, inplace=True)' or df[col] = df[col].method(value) instead, to perform the operation inplace on the original object.\n",
      "\n",
      "\n",
      "  data.house.fillna('NoData',inplace=True)\n"
     ]
    }
   ],
   "source": [
    "data.house.fillna('NoData',inplace=True)"
   ]
  },
  {
   "cell_type": "code",
   "execution_count": 43,
   "metadata": {
    "scrolled": true
   },
   "outputs": [
    {
     "data": {
      "text/plain": [
       "array([\"Alchemists' Guild\", 'Antler Men', 'Band of Nine', 'Black Ears',\n",
       "       'Blacks', 'Brave Companions', 'Brotherhood Without Banners',\n",
       "       'Brotherhood without banners', 'Burned Men', \"Chataya's brothel\",\n",
       "       'Citadel', \"City Watch of King's Landing\", 'Company of the Cat',\n",
       "       'Drowned men', 'Faceless Men', 'Faith of the Seven',\n",
       "       'Golden Company', 'Good Masters', 'Happy Port', 'House Allyrion',\n",
       "       'House Ambrose', 'House Arryn', 'House Ashford', 'House Baelish',\n",
       "       'House Ball', 'House Banefort', 'House Bar Emmon',\n",
       "       'House Baratheon', 'House Baratheon of Dragonstone',\n",
       "       \"House Baratheon of King's Landing\", 'House Beesbury',\n",
       "       'House Belmore', 'House Bettley', 'House Blackbar',\n",
       "       'House Blackberry', 'House Blackfyre', 'House Blackmont',\n",
       "       'House Blacktyde', 'House Blackwood', 'House Blanetree',\n",
       "       'House Blount', 'House Boggs', 'House Bolling', 'House Bolton',\n",
       "       'House Borrell', 'House Botley', 'House Bracken', 'House Brax',\n",
       "       'House Broom', 'House Brune of Brownhollow',\n",
       "       'House Brune of the Dyre Den', 'House Buckler', 'House Bulwer',\n",
       "       'House Bushy', 'House Butterwell', 'House Byrch', 'House Cafferen',\n",
       "       'House Caron', 'House Cassel', 'House Caswell', 'House Celtigar',\n",
       "       'House Cerwyn', 'House Charlton', 'House Chelsted',\n",
       "       'House Chester', 'House Chyttering', 'House Clegane',\n",
       "       'House Clifton', 'House Cockshaw', 'House Codd', 'House Coldwater',\n",
       "       'House Condon', 'House Conklyn', 'House Connington',\n",
       "       'House Corbray', 'House Costayne', 'House Cox', 'House Crabb',\n",
       "       'House Crakehall', 'House Crane', 'House Cupps', 'House Cuy',\n",
       "       'House Dalt', 'House Darklyn', 'House Darry', 'House Dayne',\n",
       "       'House Deddings', 'House Dondarrion', 'House Drinkwater',\n",
       "       'House Drumm', 'House Estermont', 'House Estren', 'House Farman',\n",
       "       'House Farring', 'House Farrow', 'House Farwynd',\n",
       "       'House Farwynd of the Lonely Light', 'House Fell', 'House Flint',\n",
       "       \"House Flint of Widow's Watch\", 'House Florent', 'House Foote',\n",
       "       'House Fossoway', 'House Fossoway of Cider Hall',\n",
       "       'House Fossoway of New Barrel', 'House Fowler', 'House Frey',\n",
       "       'House Frey of Riverrun', 'House Gargalen', 'House Gaunt',\n",
       "       'House Glover', 'House Goodbrook', 'House Goodbrother',\n",
       "       'House Goodbrother of Shatterstone', 'House Gower',\n",
       "       'House Graceford', 'House Grafton', 'House Grandison',\n",
       "       'House Greenfield', 'House Greenhill', 'House Greyjoy',\n",
       "       'House Grimm', 'House Haigh', 'House Harclay', 'House Hardy',\n",
       "       'House Hardyng', 'House Harlaw', 'House Harlaw of Grey Garden',\n",
       "       'House Harlaw of Harlaw Hall', 'House Harlaw of Harridan Hill',\n",
       "       'House Harlaw of the Tower of Glimmering', 'House Hawick',\n",
       "       'House Hayford', 'House Heddle', 'House Hetherspoon',\n",
       "       'House Hewett', 'House Hightower', 'House Hoare', 'House Hogg',\n",
       "       'House Hollard', 'House Hornwood', 'House Humble', 'House Hunt',\n",
       "       'House Hunter', 'House Inchfield', 'House Ironmaker', 'House Jast',\n",
       "       'House Jordayne', 'House Karstark', 'House Kenning of Harlaw',\n",
       "       'House Kenning of Kayce', 'House Kettleblack', 'House Lannister',\n",
       "       'House Lannister of Casterly Rock',\n",
       "       'House Lannister of Lannisport', 'House Leek', 'House Lefford',\n",
       "       'House Leygood', 'House Liddle', 'House Locke', 'House Longthorpe',\n",
       "       'House Longwaters', 'House Lonmouth', 'House Lorch',\n",
       "       'House Lothston', 'House Lychester', 'House Lydden',\n",
       "       'House Lynderly', 'House Mallery', 'House Mallister',\n",
       "       'House Manderly', 'House Manwoody', 'House Marbrand',\n",
       "       'House Martell', 'House Meadows', 'House Merlyn', 'House Mertyns',\n",
       "       'House Mollen', 'House Moore', 'House Mooton', 'House Moreland',\n",
       "       'House Mormont', 'House Morrigen', 'House Mudd',\n",
       "       'House Mullendore', 'House Myre', 'House Nayland',\n",
       "       'House Norcross', 'House Norrey', 'House Norridge',\n",
       "       'House Nymeros Martell', 'House Oakheart', 'House Osgrey',\n",
       "       'House Paege', 'House Payne', 'House Peake', 'House Pemford',\n",
       "       'House Penny', 'House Penrose', 'House Piper', 'House Plumm',\n",
       "       'House Poole', 'House Prester', 'House Qorgyle', 'House Rambton',\n",
       "       'House Redfort', 'House Redwyne', 'House Reed', 'House Reyne',\n",
       "       'House Risley', 'House Roote', 'House Rosby', 'House Rowan',\n",
       "       'House Royce', 'House Royce of the Gates of the Moon',\n",
       "       'House Ruttiger', 'House Ryger', 'House Rykker', 'House Ryswell',\n",
       "       'House Santagar', 'House Sarsfield', 'House Sawyer',\n",
       "       'House Seaworth', 'House Selmy', 'House Serry', 'House Sharp',\n",
       "       'House Shepherd', 'House Shett of Gull Tower', 'House Slynt',\n",
       "       'House Smallwood', 'House Sparr', 'House Spicer',\n",
       "       'House Stackspear', 'House Staedmon', 'House Stark',\n",
       "       'House Staunton', 'House Stokeworth', 'House Stonetree',\n",
       "       'House Stout', 'House Strong', 'House Suggs', 'House Sunderland',\n",
       "       'House Sunglass', 'House Swann', 'House Swyft', 'House Tallhart',\n",
       "       'House Targaryen', 'House Tarly', 'House Tarth', 'House Tawney',\n",
       "       'House Templeton', 'House Thorne', 'House Toland', 'House Tollett',\n",
       "       'House Toyne', 'House Tully', 'House Turnberry', 'House Tyrell',\n",
       "       'House Uffering', 'House Uller', 'House Umber', 'House Vaith',\n",
       "       'House Vance', 'House Vance of Atranta',\n",
       "       \"House Vance of Wayfarer's Rest\", 'House Varner', 'House Velaryon',\n",
       "       'House Vikary', 'House Volmark', 'House Vypren', 'House Vyrwel',\n",
       "       'House Wagstaff', 'House Wayn', 'House Waynwood', 'House Weaver',\n",
       "       'House Webber', 'House Wells', 'House Westerling', 'House Whent',\n",
       "       'House Willum', 'House Wode', 'House Woods', 'House Woolfield',\n",
       "       'House Wull', 'House Wylde', 'House Wynch', 'House Wythers',\n",
       "       'House Yew', 'House Yronwood', 'House of Galare',\n",
       "       'House of Ghazeen', 'House of Loraq', 'House of Merreq',\n",
       "       'House of Pahl', 'Iron Bank of Braavos', 'Khal',\n",
       "       'Kingdom of the Three Daughters', 'Kingsguard',\n",
       "       'Kingswood Brotherhood', 'Maesters', 'Moon Brothers',\n",
       "       \"Night's Watch\", 'NoData', 'Peach', 'Pureborn', 'Queensguard',\n",
       "       \"R'hllor\", 'Sea watch', 'Second Sons', 'Stone Crows', 'Stormcrows',\n",
       "       'Summer Islands', 'The Citadel', 'Windblown', 'Wise Masters',\n",
       "       'wildling'], dtype=object)"
      ]
     },
     "execution_count": 43,
     "metadata": {},
     "output_type": "execute_result"
    }
   ],
   "source": [
    "np.unique(data.house)"
   ]
  },
  {
   "cell_type": "code",
   "execution_count": 45,
   "metadata": {},
   "outputs": [],
   "source": [
    "data.house.fillna('NoData',inplace=True)\n",
    "house_death_set = data.groupby('house')['isAlive'].mean()\n",
    "data['house_mean_death'] = data['house'].map(house_death_set)"
   ]
  },
  {
   "cell_type": "markdown",
   "metadata": {},
   "source": [
    "Обработка признака **culture_grouped**"
   ]
  },
  {
   "cell_type": "code",
   "execution_count": 47,
   "metadata": {},
   "outputs": [],
   "source": [
    "data.culture_grouped.fillna('NoData',inplace=True)"
   ]
  },
  {
   "cell_type": "code",
   "execution_count": 48,
   "metadata": {
    "scrolled": true
   },
   "outputs": [],
   "source": [
    "culture_death_set = data.groupby('culture_grouped')['isAlive'].mean()\n",
    "data['culturte_mean_death'] = data['culture_grouped'].map(culture_death_set)"
   ]
  },
  {
   "cell_type": "code",
   "execution_count": 85,
   "metadata": {},
   "outputs": [
    {
     "data": {
      "text/plain": [
       "<Axes: >"
      ]
     },
     "execution_count": 85,
     "metadata": {},
     "output_type": "execute_result"
    },
    {
     "data": {
      "image/png": "[encoded data removed]",
      "text/plain": [
       "<Figure size 640x480 with 1 Axes>"
      ]
     },
     "metadata": {},
     "output_type": "display_data"
    }
   ],
   "source": [
    "data['culturte_mean_death'].hist(bins=50)"
   ]
  },
  {
   "cell_type": "code",
   "execution_count": 87,
   "metadata": {
    "scrolled": true
   },
   "outputs": [
    {
     "data": {
      "image/png": "[encoded data removed]",
      "text/plain": [
       "<Figure size 1000x800 with 2 Axes>"
      ]
     },
     "metadata": {},
     "output_type": "display_data"
    }
   ],
   "source": [
    "df_num = data.select_dtypes(exclude='object')\n",
    "corr_matrix = df_num.corr()\n",
    "plt.figure(figsize=(10, 8))\n",
    "sns.heatmap(corr_matrix,cmap='coolwarm')         \n",
    "\n",
    "plt.show()"
   ]
  },
  {
   "cell_type": "markdown",
   "metadata": {},
   "source": [
    "Убираю коррелируемые между собой признаки "
   ]
  },
  {
   "cell_type": "markdown",
   "metadata": {
    "id": "qaEaLMe0lr9G"
   },
   "source": [
    "**Задание 1.8.** Проанализируйте влияние признаков на целевую переменную."
   ]
  },
  {
   "cell_type": "code",
   "execution_count": 88,
   "metadata": {
    "id": "LSqNtjWufhwh",
    "scrolled": true
   },
   "outputs": [
    {
     "data": {
      "image/png": "[encoded data removed]",
      "text/plain": [
       "<Figure size 800x1000 with 2 Axes>"
      ]
     },
     "metadata": {},
     "output_type": "display_data"
    }
   ],
   "source": [
    "corr_matrix = df_num.corr()\n",
    "corr_sorted = corr_matrix.sort_values('isAlive', ascending=False)\n",
    "plt.figure(figsize=(8, 10))\n",
    "sns.heatmap(corr_sorted[['isAlive']], \n",
    "            annot=True, \n",
    "            cmap='coolwarm', \n",
    "            center=0,\n",
    "            fmt='.2f')\n",
    "plt.tight_layout()\n",
    "plt.show()"
   ]
  },
  {
   "cell_type": "code",
   "execution_count": 52,
   "metadata": {
    "scrolled": true
   },
   "outputs": [
    {
     "name": "stdout",
     "output_type": "stream",
     "text": [
      "<class 'pandas.core.frame.DataFrame'>\n",
      "Index: 1557 entries, 1 to 1557\n",
      "Data columns (total 31 columns):\n",
      " #   Column               Non-Null Count  Dtype  \n",
      "---  ------               --------------  -----  \n",
      " 0   male                 1557 non-null   int64  \n",
      " 1   dateOfBirth          279 non-null    float64\n",
      " 2   book1                1557 non-null   int64  \n",
      " 3   book2                1557 non-null   int64  \n",
      " 4   book3                1557 non-null   int64  \n",
      " 5   book4                1557 non-null   int64  \n",
      " 6   book5                1557 non-null   int64  \n",
      " 7   isAliveMother        18 non-null     float64\n",
      " 8   isAliveFather        22 non-null     float64\n",
      " 9   isAliveHeir          21 non-null     float64\n",
      " 10  isAliveSpouse        200 non-null    float64\n",
      " 11  isMarried            1557 non-null   int64  \n",
      " 12  isNoble              1557 non-null   int64  \n",
      " 13  age                  279 non-null    float64\n",
      " 14  numDeadRelations     1557 non-null   int64  \n",
      " 15  popularity           1557 non-null   float64\n",
      " 16  isAlive              1557 non-null   int64  \n",
      " 17  boolDeadRelations    1557 non-null   int64  \n",
      " 18  age_value            1557 non-null   float64\n",
      " 19  age_no_data          1557 non-null   int64  \n",
      " 20  isKing               1557 non-null   int64  \n",
      " 21  isQueen              1557 non-null   int64  \n",
      " 22  isPrince             1557 non-null   int64  \n",
      " 23  isLord               1557 non-null   int64  \n",
      " 24  inBooks              1557 non-null   int64  \n",
      " 25  mother_info          1557 non-null   int64  \n",
      " 26  father_info          1557 non-null   int64  \n",
      " 27  spouse_info          1557 non-null   int64  \n",
      " 28  heir_info            1557 non-null   int64  \n",
      " 29  house_mean_death     1557 non-null   float64\n",
      " 30  culturte_mean_death  1557 non-null   float64\n",
      "dtypes: float64(10), int64(21)\n",
      "memory usage: 389.2 KB\n"
     ]
    }
   ],
   "source": [
    "df_num.info()"
   ]
  },
  {
   "cell_type": "markdown",
   "metadata": {
    "id": "1VAb2VGmilof"
   },
   "source": [
    "**Задание 1.9.** Создайте переменные `X`, которая будет хранить только значения признаков, которые вы отобрали для включения в модель, и `y`, которая будет хранить только значения целевой переменной."
   ]
  },
  {
   "cell_type": "code",
   "execution_count": 89,
   "metadata": {
    "id": "5_rg7DQfatPu"
   },
   "outputs": [],
   "source": [
    "X = data[['male',  'book5', 'isMarried', 'isNoble', 'popularity',\n",
    "        'boolDeadRelations', 'age_value', 'age_no_data', \n",
    "       'isQueen', 'isPrince', 'inBooks', 'mother_info',\n",
    "       'father_info', 'spouse_info', 'heir_info', 'house_mean_death',\n",
    "       'culturte_mean_death']]\n",
    "y = data['isAlive']"
   ]
  },
  {
   "cell_type": "markdown",
   "metadata": {
    "id": "l4rlYPP-iago"
   },
   "source": [
    "**Задание 1.10.** Разделите датасет обучащую и валидационные части (train и val) при помощи функции `train_test_split` (https://scikit-learn.org/stable/modules/generated/sklearn.model_selection.train_test_split.html)"
   ]
  },
  {
   "cell_type": "code",
   "execution_count": 54,
   "metadata": {
    "id": "GK1X0OBPb4m-"
   },
   "outputs": [],
   "source": [
    "from sklearn.model_selection import train_test_split"
   ]
  },
  {
   "cell_type": "code",
   "execution_count": 90,
   "metadata": {
    "id": "HASZhG6Pby5X"
   },
   "outputs": [],
   "source": [
    "# не забудьте в функции train_test_split задать параметр random_state,\n",
    "# чтобы обеспечить повторяемость разбиения выборки на train и validation части.\n",
    "# Это позволит сравнивать метрики моделей с различными методами подготовки признаков\n",
    "X_train, X_val, y_train, y_val = train_test_split(X, y, test_size=0.2, random_state=42)"
   ]
  },
  {
   "cell_type": "markdown",
   "metadata": {
    "id": "GW9X4s8qWm98"
   },
   "source": [
    "## Часть 2. Обучение моделей"
   ]
  },
  {
   "cell_type": "markdown",
   "metadata": {
    "id": "Tu1DFWstaOh0"
   },
   "source": [
    "В данной части домашнего задания, мы хотим научиться обучать модели для задачи классификации на наших данных."
   ]
  },
  {
   "cell_type": "markdown",
   "metadata": {
    "id": "R6924OYeaisZ"
   },
   "source": [
    "**Задание 2.1.**\n",
    "\n",
    "\n",
    "Вым можете работать с одно из предложенных моделей из библиотеки `sklearn`\n",
    "* LogisticRegression\n",
    "* RandomForestClassifier\n",
    "* AdaBoostClassifier\n",
    "* GaussianProcessClassifier\n",
    "* GaussianNB\n",
    "* KNeighborsClassifier\n",
    "* SVC\n",
    "* DecisionTreeClassifier\n"
   ]
  },
  {
   "cell_type": "markdown",
   "metadata": {
    "id": "L9NEqcMacrkU"
   },
   "source": [
    "Однако в этом домашнем задании мы предлагаем выбрать и поработать с моделью `LogisticRegression`."
   ]
  },
  {
   "cell_type": "code",
   "execution_count": 56,
   "metadata": {
    "id": "qDy9pjzmbLDB"
   },
   "outputs": [],
   "source": [
    "from sklearn.linear_model import LogisticRegression"
   ]
  },
  {
   "cell_type": "markdown",
   "metadata": {
    "id": "L7J-D3OXcx5Y"
   },
   "source": [
    "Импортируйте остальные модели из библиотеки `sklearn`. Чтобы понять как это сделать, воспользуйтесь официальный документацией `sklearn` $→$ [тык](https://scikit-learn.org/dev/user_guide.html). По ключевому названию модели, вы сможете найти необходимую информацию о том, как можно импортировать модель из библиотеки."
   ]
  },
  {
   "cell_type": "markdown",
   "metadata": {
    "id": "0SffourId972"
   },
   "source": [
    "**Задание 2.2.** Обучите модель и сделайте предсказание на тестовой выборке"
   ]
  },
  {
   "cell_type": "markdown",
   "metadata": {
    "id": "Emdn45CYeMwW"
   },
   "source": [
    "В качестве примера, обучим модель `LogisticRegression` и сделаем на ней предсказания на тестовой выборке."
   ]
  },
  {
   "cell_type": "code",
   "execution_count": 91,
   "metadata": {},
   "outputs": [],
   "source": [
    "#Масштабирование признаков Х\n",
    "from sklearn.preprocessing import StandardScaler\n",
    "scaler = StandardScaler()\n",
    "scaled_X_train = scaler.fit_transform(X_train)\n",
    "scaled_X_val = scaler.transform(X_val)"
   ]
  },
  {
   "cell_type": "code",
   "execution_count": 146,
   "metadata": {
    "id": "Rp4yJWxXgQXA"
   },
   "outputs": [
    {
     "data": {
      "text/html": [
       "<style>#sk-container-id-11 {\n",
       "  /* Definition of color scheme common for light and dark mode */\n",
       "  --sklearn-color-text: #000;\n",
       "  --sklearn-color-text-muted: #666;\n",
       "  --sklearn-color-line: gray;\n",
       "  /* Definition of color scheme for unfitted estimators */\n",
       "  --sklearn-color-unfitted-level-0: #fff5e6;\n",
       "  --sklearn-color-unfitted-level-1: #f6e4d2;\n",
       "  --sklearn-color-unfitted-level-2: #ffe0b3;\n",
       "  --sklearn-color-unfitted-level-3: chocolate;\n",
       "  /* Definition of color scheme for fitted estimators */\n",
       "  --sklearn-color-fitted-level-0: #f0f8ff;\n",
       "  --sklearn-color-fitted-level-1: #d4ebff;\n",
       "  --sklearn-color-fitted-level-2: #b3dbfd;\n",
       "  --sklearn-color-fitted-level-3: cornflowerblue;\n",
       "\n",
       "  /* Specific color for light theme */\n",
       "  --sklearn-color-text-on-default-background: var(--sg-text-color, var(--theme-code-foreground, var(--jp-content-font-color1, black)));\n",
       "  --sklearn-color-background: var(--sg-background-color, var(--theme-background, var(--jp-layout-color0, white)));\n",
       "  --sklearn-color-border-box: var(--sg-text-color, var(--theme-code-foreground, var(--jp-content-font-color1, black)));\n",
       "  --sklearn-color-icon: #696969;\n",
       "\n",
       "  @media (prefers-color-scheme: dark) {\n",
       "    /* Redefinition of color scheme for dark theme */\n",
       "    --sklearn-color-text-on-default-background: var(--sg-text-color, var(--theme-code-foreground, var(--jp-content-font-color1, white)));\n",
       "    --sklearn-color-background: var(--sg-background-color, var(--theme-background, var(--jp-layout-color0, #111)));\n",
       "    --sklearn-color-border-box: var(--sg-text-color, var(--theme-code-foreground, var(--jp-content-font-color1, white)));\n",
       "    --sklearn-color-icon: #878787;\n",
       "  }\n",
       "}\n",
       "\n",
       "#sk-container-id-11 {\n",
       "  color: var(--sklearn-color-text);\n",
       "}\n",
       "\n",
       "#sk-container-id-11 pre {\n",
       "  padding: 0;\n",
       "}\n",
       "\n",
       "#sk-container-id-11 input.sk-hidden--visually {\n",
       "  border: 0;\n",
       "  clip: rect(1px 1px 1px 1px);\n",
       "  clip: rect(1px, 1px, 1px, 1px);\n",
       "  height: 1px;\n",
       "  margin: -1px;\n",
       "  overflow: hidden;\n",
       "  padding: 0;\n",
       "  position: absolute;\n",
       "  width: 1px;\n",
       "}\n",
       "\n",
       "#sk-container-id-11 div.sk-dashed-wrapped {\n",
       "  border: 1px dashed var(--sklearn-color-line);\n",
       "  margin: 0 0.4em 0.5em 0.4em;\n",
       "  box-sizing: border-box;\n",
       "  padding-bottom: 0.4em;\n",
       "  background-color: var(--sklearn-color-background);\n",
       "}\n",
       "\n",
       "#sk-container-id-11 div.sk-container {\n",
       "  /* jupyter's `normalize.less` sets `[hidden] { display: none; }`\n",
       "     but bootstrap.min.css set `[hidden] { display: none !important; }`\n",
       "     so we also need the `!important` here to be able to override the\n",
       "     default hidden behavior on the sphinx rendered scikit-learn.org.\n",
       "     See: https://github.com/scikit-learn/scikit-learn/issues/21755 */\n",
       "  display: inline-block !important;\n",
       "  position: relative;\n",
       "}\n",
       "\n",
       "#sk-container-id-11 div.sk-text-repr-fallback {\n",
       "  display: none;\n",
       "}\n",
       "\n",
       "div.sk-parallel-item,\n",
       "div.sk-serial,\n",
       "div.sk-item {\n",
       "  /* draw centered vertical line to link estimators */\n",
       "  background-image: linear-gradient(var(--sklearn-color-text-on-default-background), var(--sklearn-color-text-on-default-background));\n",
       "  background-size: 2px 100%;\n",
       "  background-repeat: no-repeat;\n",
       "  background-position: center center;\n",
       "}\n",
       "\n",
       "/* Parallel-specific style estimator block */\n",
       "\n",
       "#sk-container-id-11 div.sk-parallel-item::after {\n",
       "  content: \"\";\n",
       "  width: 100%;\n",
       "  border-bottom: 2px solid var(--sklearn-color-text-on-default-background);\n",
       "  flex-grow: 1;\n",
       "}\n",
       "\n",
       "#sk-container-id-11 div.sk-parallel {\n",
       "  display: flex;\n",
       "  align-items: stretch;\n",
       "  justify-content: center;\n",
       "  background-color: var(--sklearn-color-background);\n",
       "  position: relative;\n",
       "}\n",
       "\n",
       "#sk-container-id-11 div.sk-parallel-item {\n",
       "  display: flex;\n",
       "  flex-direction: column;\n",
       "}\n",
       "\n",
       "#sk-container-id-11 div.sk-parallel-item:first-child::after {\n",
       "  align-self: flex-end;\n",
       "  width: 50%;\n",
       "}\n",
       "\n",
       "#sk-container-id-11 div.sk-parallel-item:last-child::after {\n",
       "  align-self: flex-start;\n",
       "  width: 50%;\n",
       "}\n",
       "\n",
       "#sk-container-id-11 div.sk-parallel-item:only-child::after {\n",
       "  width: 0;\n",
       "}\n",
       "\n",
       "/* Serial-specific style estimator block */\n",
       "\n",
       "#sk-container-id-11 div.sk-serial {\n",
       "  display: flex;\n",
       "  flex-direction: column;\n",
       "  align-items: center;\n",
       "  background-color: var(--sklearn-color-background);\n",
       "  padding-right: 1em;\n",
       "  padding-left: 1em;\n",
       "}\n",
       "\n",
       "\n",
       "/* Toggleable style: style used for estimator/Pipeline/ColumnTransformer box that is\n",
       "clickable and can be expanded/collapsed.\n",
       "- Pipeline and ColumnTransformer use this feature and define the default style\n",
       "- Estimators will overwrite some part of the style using the `sk-estimator` class\n",
       "*/\n",
       "\n",
       "/* Pipeline and ColumnTransformer style (default) */\n",
       "\n",
       "#sk-container-id-11 div.sk-toggleable {\n",
       "  /* Default theme specific background. It is overwritten whether we have a\n",
       "  specific estimator or a Pipeline/ColumnTransformer */\n",
       "  background-color: var(--sklearn-color-background);\n",
       "}\n",
       "\n",
       "/* Toggleable label */\n",
       "#sk-container-id-11 label.sk-toggleable__label {\n",
       "  cursor: pointer;\n",
       "  display: flex;\n",
       "  width: 100%;\n",
       "  margin-bottom: 0;\n",
       "  padding: 0.5em;\n",
       "  box-sizing: border-box;\n",
       "  text-align: center;\n",
       "  align-items: start;\n",
       "  justify-content: space-between;\n",
       "  gap: 0.5em;\n",
       "}\n",
       "\n",
       "#sk-container-id-11 label.sk-toggleable__label .caption {\n",
       "  font-size: 0.6rem;\n",
       "  font-weight: lighter;\n",
       "  color: var(--sklearn-color-text-muted);\n",
       "}\n",
       "\n",
       "#sk-container-id-11 label.sk-toggleable__label-arrow:before {\n",
       "  /* Arrow on the left of the label */\n",
       "  content: \"▸\";\n",
       "  float: left;\n",
       "  margin-right: 0.25em;\n",
       "  color: var(--sklearn-color-icon);\n",
       "}\n",
       "\n",
       "#sk-container-id-11 label.sk-toggleable__label-arrow:hover:before {\n",
       "  color: var(--sklearn-color-text);\n",
       "}\n",
       "\n",
       "/* Toggleable content - dropdown */\n",
       "\n",
       "#sk-container-id-11 div.sk-toggleable__content {\n",
       "  max-height: 0;\n",
       "  max-width: 0;\n",
       "  overflow: hidden;\n",
       "  text-align: left;\n",
       "  /* unfitted */\n",
       "  background-color: var(--sklearn-color-unfitted-level-0);\n",
       "}\n",
       "\n",
       "#sk-container-id-11 div.sk-toggleable__content.fitted {\n",
       "  /* fitted */\n",
       "  background-color: var(--sklearn-color-fitted-level-0);\n",
       "}\n",
       "\n",
       "#sk-container-id-11 div.sk-toggleable__content pre {\n",
       "  margin: 0.2em;\n",
       "  border-radius: 0.25em;\n",
       "  color: var(--sklearn-color-text);\n",
       "  /* unfitted */\n",
       "  background-color: var(--sklearn-color-unfitted-level-0);\n",
       "}\n",
       "\n",
       "#sk-container-id-11 div.sk-toggleable__content.fitted pre {\n",
       "  /* unfitted */\n",
       "  background-color: var(--sklearn-color-fitted-level-0);\n",
       "}\n",
       "\n",
       "#sk-container-id-11 input.sk-toggleable__control:checked~div.sk-toggleable__content {\n",
       "  /* Expand drop-down */\n",
       "  max-height: 200px;\n",
       "  max-width: 100%;\n",
       "  overflow: auto;\n",
       "}\n",
       "\n",
       "#sk-container-id-11 input.sk-toggleable__control:checked~label.sk-toggleable__label-arrow:before {\n",
       "  content: \"▾\";\n",
       "}\n",
       "\n",
       "/* Pipeline/ColumnTransformer-specific style */\n",
       "\n",
       "#sk-container-id-11 div.sk-label input.sk-toggleable__control:checked~label.sk-toggleable__label {\n",
       "  color: var(--sklearn-color-text);\n",
       "  background-color: var(--sklearn-color-unfitted-level-2);\n",
       "}\n",
       "\n",
       "#sk-container-id-11 div.sk-label.fitted input.sk-toggleable__control:checked~label.sk-toggleable__label {\n",
       "  background-color: var(--sklearn-color-fitted-level-2);\n",
       "}\n",
       "\n",
       "/* Estimator-specific style */\n",
       "\n",
       "/* Colorize estimator box */\n",
       "#sk-container-id-11 div.sk-estimator input.sk-toggleable__control:checked~label.sk-toggleable__label {\n",
       "  /* unfitted */\n",
       "  background-color: var(--sklearn-color-unfitted-level-2);\n",
       "}\n",
       "\n",
       "#sk-container-id-11 div.sk-estimator.fitted input.sk-toggleable__control:checked~label.sk-toggleable__label {\n",
       "  /* fitted */\n",
       "  background-color: var(--sklearn-color-fitted-level-2);\n",
       "}\n",
       "\n",
       "#sk-container-id-11 div.sk-label label.sk-toggleable__label,\n",
       "#sk-container-id-11 div.sk-label label {\n",
       "  /* The background is the default theme color */\n",
       "  color: var(--sklearn-color-text-on-default-background);\n",
       "}\n",
       "\n",
       "/* On hover, darken the color of the background */\n",
       "#sk-container-id-11 div.sk-label:hover label.sk-toggleable__label {\n",
       "  color: var(--sklearn-color-text);\n",
       "  background-color: var(--sklearn-color-unfitted-level-2);\n",
       "}\n",
       "\n",
       "/* Label box, darken color on hover, fitted */\n",
       "#sk-container-id-11 div.sk-label.fitted:hover label.sk-toggleable__label.fitted {\n",
       "  color: var(--sklearn-color-text);\n",
       "  background-color: var(--sklearn-color-fitted-level-2);\n",
       "}\n",
       "\n",
       "/* Estimator label */\n",
       "\n",
       "#sk-container-id-11 div.sk-label label {\n",
       "  font-family: monospace;\n",
       "  font-weight: bold;\n",
       "  display: inline-block;\n",
       "  line-height: 1.2em;\n",
       "}\n",
       "\n",
       "#sk-container-id-11 div.sk-label-container {\n",
       "  text-align: center;\n",
       "}\n",
       "\n",
       "/* Estimator-specific */\n",
       "#sk-container-id-11 div.sk-estimator {\n",
       "  font-family: monospace;\n",
       "  border: 1px dotted var(--sklearn-color-border-box);\n",
       "  border-radius: 0.25em;\n",
       "  box-sizing: border-box;\n",
       "  margin-bottom: 0.5em;\n",
       "  /* unfitted */\n",
       "  background-color: var(--sklearn-color-unfitted-level-0);\n",
       "}\n",
       "\n",
       "#sk-container-id-11 div.sk-estimator.fitted {\n",
       "  /* fitted */\n",
       "  background-color: var(--sklearn-color-fitted-level-0);\n",
       "}\n",
       "\n",
       "/* on hover */\n",
       "#sk-container-id-11 div.sk-estimator:hover {\n",
       "  /* unfitted */\n",
       "  background-color: var(--sklearn-color-unfitted-level-2);\n",
       "}\n",
       "\n",
       "#sk-container-id-11 div.sk-estimator.fitted:hover {\n",
       "  /* fitted */\n",
       "  background-color: var(--sklearn-color-fitted-level-2);\n",
       "}\n",
       "\n",
       "/* Specification for estimator info (e.g. \"i\" and \"?\") */\n",
       "\n",
       "/* Common style for \"i\" and \"?\" */\n",
       "\n",
       ".sk-estimator-doc-link,\n",
       "a:link.sk-estimator-doc-link,\n",
       "a:visited.sk-estimator-doc-link {\n",
       "  float: right;\n",
       "  font-size: smaller;\n",
       "  line-height: 1em;\n",
       "  font-family: monospace;\n",
       "  background-color: var(--sklearn-color-background);\n",
       "  border-radius: 1em;\n",
       "  height: 1em;\n",
       "  width: 1em;\n",
       "  text-decoration: none !important;\n",
       "  margin-left: 0.5em;\n",
       "  text-align: center;\n",
       "  /* unfitted */\n",
       "  border: var(--sklearn-color-unfitted-level-1) 1pt solid;\n",
       "  color: var(--sklearn-color-unfitted-level-1);\n",
       "}\n",
       "\n",
       ".sk-estimator-doc-link.fitted,\n",
       "a:link.sk-estimator-doc-link.fitted,\n",
       "a:visited.sk-estimator-doc-link.fitted {\n",
       "  /* fitted */\n",
       "  border: var(--sklearn-color-fitted-level-1) 1pt solid;\n",
       "  color: var(--sklearn-color-fitted-level-1);\n",
       "}\n",
       "\n",
       "/* On hover */\n",
       "div.sk-estimator:hover .sk-estimator-doc-link:hover,\n",
       ".sk-estimator-doc-link:hover,\n",
       "div.sk-label-container:hover .sk-estimator-doc-link:hover,\n",
       ".sk-estimator-doc-link:hover {\n",
       "  /* unfitted */\n",
       "  background-color: var(--sklearn-color-unfitted-level-3);\n",
       "  color: var(--sklearn-color-background);\n",
       "  text-decoration: none;\n",
       "}\n",
       "\n",
       "div.sk-estimator.fitted:hover .sk-estimator-doc-link.fitted:hover,\n",
       ".sk-estimator-doc-link.fitted:hover,\n",
       "div.sk-label-container:hover .sk-estimator-doc-link.fitted:hover,\n",
       ".sk-estimator-doc-link.fitted:hover {\n",
       "  /* fitted */\n",
       "  background-color: var(--sklearn-color-fitted-level-3);\n",
       "  color: var(--sklearn-color-background);\n",
       "  text-decoration: none;\n",
       "}\n",
       "\n",
       "/* Span, style for the box shown on hovering the info icon */\n",
       ".sk-estimator-doc-link span {\n",
       "  display: none;\n",
       "  z-index: 9999;\n",
       "  position: relative;\n",
       "  font-weight: normal;\n",
       "  right: .2ex;\n",
       "  padding: .5ex;\n",
       "  margin: .5ex;\n",
       "  width: min-content;\n",
       "  min-width: 20ex;\n",
       "  max-width: 50ex;\n",
       "  color: var(--sklearn-color-text);\n",
       "  box-shadow: 2pt 2pt 4pt #999;\n",
       "  /* unfitted */\n",
       "  background: var(--sklearn-color-unfitted-level-0);\n",
       "  border: .5pt solid var(--sklearn-color-unfitted-level-3);\n",
       "}\n",
       "\n",
       ".sk-estimator-doc-link.fitted span {\n",
       "  /* fitted */\n",
       "  background: var(--sklearn-color-fitted-level-0);\n",
       "  border: var(--sklearn-color-fitted-level-3);\n",
       "}\n",
       "\n",
       ".sk-estimator-doc-link:hover span {\n",
       "  display: block;\n",
       "}\n",
       "\n",
       "/* \"?\"-specific style due to the `<a>` HTML tag */\n",
       "\n",
       "#sk-container-id-11 a.estimator_doc_link {\n",
       "  float: right;\n",
       "  font-size: 1rem;\n",
       "  line-height: 1em;\n",
       "  font-family: monospace;\n",
       "  background-color: var(--sklearn-color-background);\n",
       "  border-radius: 1rem;\n",
       "  height: 1rem;\n",
       "  width: 1rem;\n",
       "  text-decoration: none;\n",
       "  /* unfitted */\n",
       "  color: var(--sklearn-color-unfitted-level-1);\n",
       "  border: var(--sklearn-color-unfitted-level-1) 1pt solid;\n",
       "}\n",
       "\n",
       "#sk-container-id-11 a.estimator_doc_link.fitted {\n",
       "  /* fitted */\n",
       "  border: var(--sklearn-color-fitted-level-1) 1pt solid;\n",
       "  color: var(--sklearn-color-fitted-level-1);\n",
       "}\n",
       "\n",
       "/* On hover */\n",
       "#sk-container-id-11 a.estimator_doc_link:hover {\n",
       "  /* unfitted */\n",
       "  background-color: var(--sklearn-color-unfitted-level-3);\n",
       "  color: var(--sklearn-color-background);\n",
       "  text-decoration: none;\n",
       "}\n",
       "\n",
       "#sk-container-id-11 a.estimator_doc_link.fitted:hover {\n",
       "  /* fitted */\n",
       "  background-color: var(--sklearn-color-fitted-level-3);\n",
       "}\n",
       "</style><div id=\"sk-container-id-11\" class=\"sk-top-container\"><div class=\"sk-text-repr-fallback\"><pre>LogisticRegressionCV(max_iter=200)</pre><b>In a Jupyter environment, please rerun this cell to show the HTML representation or trust the notebook. <br />On GitHub, the HTML representation is unable to render, please try loading this page with nbviewer.org.</b></div><div class=\"sk-container\" hidden><div class=\"sk-item\"><div class=\"sk-estimator fitted sk-toggleable\"><input class=\"sk-toggleable__control sk-hidden--visually\" id=\"sk-estimator-id-11\" type=\"checkbox\" checked><label for=\"sk-estimator-id-11\" class=\"sk-toggleable__label fitted sk-toggleable__label-arrow\"><div><div>LogisticRegressionCV</div></div><div><a class=\"sk-estimator-doc-link fitted\" rel=\"noreferrer\" target=\"_blank\" href=\"https://scikit-learn.org/1.6/modules/generated/sklearn.linear_model.LogisticRegressionCV.html\">?<span>Documentation for LogisticRegressionCV</span></a><span class=\"sk-estimator-doc-link fitted\">i<span>Fitted</span></span></div></label><div class=\"sk-toggleable__content fitted\"><pre>LogisticRegressionCV(max_iter=200)</pre></div> </div></div></div></div>"
      ],
      "text/plain": [
       "LogisticRegressionCV(max_iter=200)"
      ]
     },
     "execution_count": 146,
     "metadata": {},
     "output_type": "execute_result"
    }
   ],
   "source": [
    "# Шаг 1. создание модели\n",
    "from sklearn.linear_model import LogisticRegressionCV \n",
    "log_model = LogisticRegressionCV(max_iter=200)\n",
    "# Шаг 2. обучение модели\n",
    "log_model.fit(scaled_X_train,y_train)\n"
   ]
  },
  {
   "cell_type": "code",
   "execution_count": 147,
   "metadata": {},
   "outputs": [],
   "source": [
    "# Шаг 3. Предсказание на тестовых данных\n",
    "y_pred = log_model.predict(scaled_X_val)"
   ]
  },
  {
   "cell_type": "markdown",
   "metadata": {
    "id": "6EDY2PuxXkJr"
   },
   "source": [
    "## Часть 3. Оцените качество моделей"
   ]
  },
  {
   "cell_type": "markdown",
   "metadata": {
    "id": "2fq6c3OLXonm"
   },
   "source": [
    "Вам необходимо познакомиться с метриками задачи классификации из sklearn. Оцените все модели и выберите лучшую по метрике качества Accuracy.\n",
    "\n",
    "С метриками классификации вы можете ознакомиться в [Yandex ML Book](https://education.yandex.ru/handbook/ml/article/metriki-klassifikacii-i-regressii).\n",
    "\n",
    "Для простоты в данном домашнем задании мы будем работать с самой базовой метрикой для задачи классификации - accuracy."
   ]
  },
  {
   "cell_type": "markdown",
   "metadata": {
    "id": "4e3r1qm1fJh5"
   },
   "source": [
    "**Задание 3.1.** Вам необходимо посчитать метрику для всех моделей и выбрать лучшую модель."
   ]
  },
  {
   "cell_type": "markdown",
   "metadata": {
    "id": "ZMPpyCXVX4kn"
   },
   "source": [
    "Сначала импортируем необходимую функцию из библиотеки sklearn для подсчета accuracy."
   ]
  },
  {
   "cell_type": "code",
   "execution_count": 62,
   "metadata": {
    "id": "46hIpXgNaJ9Q"
   },
   "outputs": [],
   "source": [
    "from sklearn.metrics import accuracy_score"
   ]
  },
  {
   "cell_type": "markdown",
   "metadata": {
    "id": "OHbPHBmzfxpM"
   },
   "source": [
    "В качестве примера, посчитаем метрику accuracy для модели `LogisticRegression`"
   ]
  },
  {
   "cell_type": "code",
   "execution_count": 148,
   "metadata": {
    "id": "NIMezW7sf7dM"
   },
   "outputs": [
    {
     "name": "stdout",
     "output_type": "stream",
     "text": [
      "Accuracy : 0.8237\n"
     ]
    }
   ],
   "source": [
    "# Шаг 4. Оценка предсказания по метрике accuracy\n",
    "accuracy = accuracy_score(y_val, y_pred)\n",
    "print(\"Accuracy : %.4f\" % accuracy)"
   ]
  },
  {
   "cell_type": "markdown",
   "metadata": {
    "id": "8PxPnhsDg2Rv"
   },
   "source": [
    "Возможно, вы решите вернуться на несколько шагов и попробовать другие варианты преобразования и подбора признаков в модель. **Выберите** лучшую модель."
   ]
  },
  {
   "cell_type": "markdown",
   "metadata": {
    "id": "TXMBSay0044i"
   },
   "source": [
    "### Тестовый датасет"
   ]
  },
  {
   "cell_type": "markdown",
   "metadata": {
    "id": "ngayP_si06os"
   },
   "source": [
    "В самом начале нашего домашнего задания мы скачивали тестовый датасет. Загрузите его в Pandas DataFrame при помощи функции read_csv"
   ]
  },
  {
   "cell_type": "code",
   "execution_count": 95,
   "metadata": {
    "id": "ApvHnJ_j08nk"
   },
   "outputs": [
    {
     "data": {
      "text/html": [
       "<div>\n",
       "<style scoped>\n",
       "    .dataframe tbody tr th:only-of-type {\n",
       "        vertical-align: middle;\n",
       "    }\n",
       "\n",
       "    .dataframe tbody tr th {\n",
       "        vertical-align: top;\n",
       "    }\n",
       "\n",
       "    .dataframe thead th {\n",
       "        text-align: right;\n",
       "    }\n",
       "</style>\n",
       "<table border=\"1\" class=\"dataframe\">\n",
       "  <thead>\n",
       "    <tr style=\"text-align: right;\">\n",
       "      <th></th>\n",
       "      <th>name</th>\n",
       "      <th>title</th>\n",
       "      <th>male</th>\n",
       "      <th>culture</th>\n",
       "      <th>dateOfBirth</th>\n",
       "      <th>mother</th>\n",
       "      <th>father</th>\n",
       "      <th>heir</th>\n",
       "      <th>house</th>\n",
       "      <th>spouse</th>\n",
       "      <th>...</th>\n",
       "      <th>book5</th>\n",
       "      <th>isAliveMother</th>\n",
       "      <th>isAliveFather</th>\n",
       "      <th>isAliveHeir</th>\n",
       "      <th>isAliveSpouse</th>\n",
       "      <th>isMarried</th>\n",
       "      <th>isNoble</th>\n",
       "      <th>age</th>\n",
       "      <th>numDeadRelations</th>\n",
       "      <th>popularity</th>\n",
       "    </tr>\n",
       "    <tr>\n",
       "      <th>S.No</th>\n",
       "      <th></th>\n",
       "      <th></th>\n",
       "      <th></th>\n",
       "      <th></th>\n",
       "      <th></th>\n",
       "      <th></th>\n",
       "      <th></th>\n",
       "      <th></th>\n",
       "      <th></th>\n",
       "      <th></th>\n",
       "      <th></th>\n",
       "      <th></th>\n",
       "      <th></th>\n",
       "      <th></th>\n",
       "      <th></th>\n",
       "      <th></th>\n",
       "      <th></th>\n",
       "      <th></th>\n",
       "      <th></th>\n",
       "      <th></th>\n",
       "      <th></th>\n",
       "    </tr>\n",
       "  </thead>\n",
       "  <tbody>\n",
       "    <tr>\n",
       "      <th>1558</th>\n",
       "      <td>Melissa Blackwood</td>\n",
       "      <td>NaN</td>\n",
       "      <td>0</td>\n",
       "      <td>NaN</td>\n",
       "      <td>156.0</td>\n",
       "      <td>NaN</td>\n",
       "      <td>NaN</td>\n",
       "      <td>NaN</td>\n",
       "      <td>House Blackwood</td>\n",
       "      <td>NaN</td>\n",
       "      <td>...</td>\n",
       "      <td>1</td>\n",
       "      <td>NaN</td>\n",
       "      <td>NaN</td>\n",
       "      <td>NaN</td>\n",
       "      <td>NaN</td>\n",
       "      <td>0</td>\n",
       "      <td>0</td>\n",
       "      <td>100.0</td>\n",
       "      <td>0</td>\n",
       "      <td>0.050167</td>\n",
       "    </tr>\n",
       "    <tr>\n",
       "      <th>1559</th>\n",
       "      <td>Melisandre</td>\n",
       "      <td>NaN</td>\n",
       "      <td>0</td>\n",
       "      <td>Asshai</td>\n",
       "      <td>NaN</td>\n",
       "      <td>NaN</td>\n",
       "      <td>NaN</td>\n",
       "      <td>NaN</td>\n",
       "      <td>R'hllor</td>\n",
       "      <td>NaN</td>\n",
       "      <td>...</td>\n",
       "      <td>1</td>\n",
       "      <td>NaN</td>\n",
       "      <td>NaN</td>\n",
       "      <td>NaN</td>\n",
       "      <td>NaN</td>\n",
       "      <td>0</td>\n",
       "      <td>0</td>\n",
       "      <td>NaN</td>\n",
       "      <td>0</td>\n",
       "      <td>0.745819</td>\n",
       "    </tr>\n",
       "    <tr>\n",
       "      <th>1560</th>\n",
       "      <td>Merrit</td>\n",
       "      <td>NaN</td>\n",
       "      <td>0</td>\n",
       "      <td>NaN</td>\n",
       "      <td>NaN</td>\n",
       "      <td>NaN</td>\n",
       "      <td>NaN</td>\n",
       "      <td>NaN</td>\n",
       "      <td>Brotherhood without banners</td>\n",
       "      <td>NaN</td>\n",
       "      <td>...</td>\n",
       "      <td>0</td>\n",
       "      <td>NaN</td>\n",
       "      <td>NaN</td>\n",
       "      <td>NaN</td>\n",
       "      <td>NaN</td>\n",
       "      <td>0</td>\n",
       "      <td>0</td>\n",
       "      <td>NaN</td>\n",
       "      <td>0</td>\n",
       "      <td>0.010033</td>\n",
       "    </tr>\n",
       "    <tr>\n",
       "      <th>1561</th>\n",
       "      <td>Meryn Trant</td>\n",
       "      <td>Ser</td>\n",
       "      <td>1</td>\n",
       "      <td>NaN</td>\n",
       "      <td>NaN</td>\n",
       "      <td>NaN</td>\n",
       "      <td>NaN</td>\n",
       "      <td>NaN</td>\n",
       "      <td>House Trant</td>\n",
       "      <td>NaN</td>\n",
       "      <td>...</td>\n",
       "      <td>1</td>\n",
       "      <td>NaN</td>\n",
       "      <td>NaN</td>\n",
       "      <td>NaN</td>\n",
       "      <td>NaN</td>\n",
       "      <td>0</td>\n",
       "      <td>1</td>\n",
       "      <td>NaN</td>\n",
       "      <td>0</td>\n",
       "      <td>0.220736</td>\n",
       "    </tr>\n",
       "    <tr>\n",
       "      <th>1562</th>\n",
       "      <td>Merrett Frey</td>\n",
       "      <td>NaN</td>\n",
       "      <td>1</td>\n",
       "      <td>Riverlands</td>\n",
       "      <td>262.0</td>\n",
       "      <td>NaN</td>\n",
       "      <td>NaN</td>\n",
       "      <td>NaN</td>\n",
       "      <td>House Frey</td>\n",
       "      <td>Mariya Darry</td>\n",
       "      <td>...</td>\n",
       "      <td>1</td>\n",
       "      <td>NaN</td>\n",
       "      <td>NaN</td>\n",
       "      <td>NaN</td>\n",
       "      <td>1.0</td>\n",
       "      <td>1</td>\n",
       "      <td>0</td>\n",
       "      <td>38.0</td>\n",
       "      <td>0</td>\n",
       "      <td>0.434783</td>\n",
       "    </tr>\n",
       "  </tbody>\n",
       "</table>\n",
       "<p>5 rows × 24 columns</p>\n",
       "</div>"
      ],
      "text/plain": [
       "                   name title  male     culture  dateOfBirth mother father  \\\n",
       "S.No                                                                         \n",
       "1558  Melissa Blackwood   NaN     0         NaN        156.0    NaN    NaN   \n",
       "1559         Melisandre   NaN     0      Asshai          NaN    NaN    NaN   \n",
       "1560             Merrit   NaN     0         NaN          NaN    NaN    NaN   \n",
       "1561        Meryn Trant   Ser     1         NaN          NaN    NaN    NaN   \n",
       "1562       Merrett Frey   NaN     1  Riverlands        262.0    NaN    NaN   \n",
       "\n",
       "     heir                        house        spouse  ...  book5  \\\n",
       "S.No                                                  ...          \n",
       "1558  NaN              House Blackwood           NaN  ...      1   \n",
       "1559  NaN                      R'hllor           NaN  ...      1   \n",
       "1560  NaN  Brotherhood without banners           NaN  ...      0   \n",
       "1561  NaN                  House Trant           NaN  ...      1   \n",
       "1562  NaN                   House Frey  Mariya Darry  ...      1   \n",
       "\n",
       "      isAliveMother  isAliveFather  isAliveHeir  isAliveSpouse  isMarried  \\\n",
       "S.No                                                                        \n",
       "1558            NaN            NaN          NaN            NaN          0   \n",
       "1559            NaN            NaN          NaN            NaN          0   \n",
       "1560            NaN            NaN          NaN            NaN          0   \n",
       "1561            NaN            NaN          NaN            NaN          0   \n",
       "1562            NaN            NaN          NaN            1.0          1   \n",
       "\n",
       "      isNoble    age  numDeadRelations  popularity  \n",
       "S.No                                                \n",
       "1558        0  100.0                 0    0.050167  \n",
       "1559        0    NaN                 0    0.745819  \n",
       "1560        0    NaN                 0    0.010033  \n",
       "1561        1    NaN                 0    0.220736  \n",
       "1562        0   38.0                 0    0.434783  \n",
       "\n",
       "[5 rows x 24 columns]"
      ]
     },
     "execution_count": 95,
     "metadata": {},
     "output_type": "execute_result"
    }
   ],
   "source": [
    "data_test = pd.read_csv('content/game_of_thrones_test.csv', index_col='S.No')\n",
    "data_test.head()"
   ]
  },
  {
   "cell_type": "markdown",
   "metadata": {
    "id": "mMFQhdM407qX"
   },
   "source": [
    "По аналогии с тем, как мы работали с обучающим датасетом, давайте посмотрим в тестовом датасете на статистики признаков с разными типами данных  "
   ]
  },
  {
   "cell_type": "code",
   "execution_count": 96,
   "metadata": {
    "id": "9xaSFI8Z0-xt"
   },
   "outputs": [
    {
     "data": {
      "text/html": [
       "<div>\n",
       "<style scoped>\n",
       "    .dataframe tbody tr th:only-of-type {\n",
       "        vertical-align: middle;\n",
       "    }\n",
       "\n",
       "    .dataframe tbody tr th {\n",
       "        vertical-align: top;\n",
       "    }\n",
       "\n",
       "    .dataframe thead th {\n",
       "        text-align: right;\n",
       "    }\n",
       "</style>\n",
       "<table border=\"1\" class=\"dataframe\">\n",
       "  <thead>\n",
       "    <tr style=\"text-align: right;\">\n",
       "      <th></th>\n",
       "      <th>name</th>\n",
       "      <th>title</th>\n",
       "      <th>male</th>\n",
       "      <th>culture</th>\n",
       "      <th>dateOfBirth</th>\n",
       "      <th>mother</th>\n",
       "      <th>father</th>\n",
       "      <th>heir</th>\n",
       "      <th>house</th>\n",
       "      <th>spouse</th>\n",
       "      <th>...</th>\n",
       "      <th>book5</th>\n",
       "      <th>isAliveMother</th>\n",
       "      <th>isAliveFather</th>\n",
       "      <th>isAliveHeir</th>\n",
       "      <th>isAliveSpouse</th>\n",
       "      <th>isMarried</th>\n",
       "      <th>isNoble</th>\n",
       "      <th>age</th>\n",
       "      <th>numDeadRelations</th>\n",
       "      <th>popularity</th>\n",
       "    </tr>\n",
       "    <tr>\n",
       "      <th>S.No</th>\n",
       "      <th></th>\n",
       "      <th></th>\n",
       "      <th></th>\n",
       "      <th></th>\n",
       "      <th></th>\n",
       "      <th></th>\n",
       "      <th></th>\n",
       "      <th></th>\n",
       "      <th></th>\n",
       "      <th></th>\n",
       "      <th></th>\n",
       "      <th></th>\n",
       "      <th></th>\n",
       "      <th></th>\n",
       "      <th></th>\n",
       "      <th></th>\n",
       "      <th></th>\n",
       "      <th></th>\n",
       "      <th></th>\n",
       "      <th></th>\n",
       "      <th></th>\n",
       "    </tr>\n",
       "  </thead>\n",
       "  <tbody>\n",
       "    <tr>\n",
       "      <th>1685</th>\n",
       "      <td>Doreah</td>\n",
       "      <td>NaN</td>\n",
       "      <td>0</td>\n",
       "      <td>Lysene</td>\n",
       "      <td>278279.0</td>\n",
       "      <td>NaN</td>\n",
       "      <td>NaN</td>\n",
       "      <td>NaN</td>\n",
       "      <td>House Targaryen</td>\n",
       "      <td>NaN</td>\n",
       "      <td>...</td>\n",
       "      <td>1</td>\n",
       "      <td>NaN</td>\n",
       "      <td>NaN</td>\n",
       "      <td>NaN</td>\n",
       "      <td>NaN</td>\n",
       "      <td>0</td>\n",
       "      <td>0</td>\n",
       "      <td>-277980.0</td>\n",
       "      <td>0</td>\n",
       "      <td>0.110368</td>\n",
       "    </tr>\n",
       "    <tr>\n",
       "      <th>1869</th>\n",
       "      <td>Rhaego</td>\n",
       "      <td>NaN</td>\n",
       "      <td>0</td>\n",
       "      <td>NaN</td>\n",
       "      <td>298299.0</td>\n",
       "      <td>NaN</td>\n",
       "      <td>NaN</td>\n",
       "      <td>NaN</td>\n",
       "      <td>House Targaryen</td>\n",
       "      <td>NaN</td>\n",
       "      <td>...</td>\n",
       "      <td>0</td>\n",
       "      <td>NaN</td>\n",
       "      <td>NaN</td>\n",
       "      <td>NaN</td>\n",
       "      <td>NaN</td>\n",
       "      <td>0</td>\n",
       "      <td>0</td>\n",
       "      <td>-298001.0</td>\n",
       "      <td>6</td>\n",
       "      <td>0.167224</td>\n",
       "    </tr>\n",
       "  </tbody>\n",
       "</table>\n",
       "<p>2 rows × 24 columns</p>\n",
       "</div>"
      ],
      "text/plain": [
       "        name title  male culture  dateOfBirth mother father heir  \\\n",
       "S.No                                                               \n",
       "1685  Doreah   NaN     0  Lysene     278279.0    NaN    NaN  NaN   \n",
       "1869  Rhaego   NaN     0     NaN     298299.0    NaN    NaN  NaN   \n",
       "\n",
       "                house spouse  ...  book5  isAliveMother  isAliveFather  \\\n",
       "S.No                          ...                                        \n",
       "1685  House Targaryen    NaN  ...      1            NaN            NaN   \n",
       "1869  House Targaryen    NaN  ...      0            NaN            NaN   \n",
       "\n",
       "      isAliveHeir  isAliveSpouse  isMarried  isNoble       age  \\\n",
       "S.No                                                             \n",
       "1685          NaN            NaN          0        0 -277980.0   \n",
       "1869          NaN            NaN          0        0 -298001.0   \n",
       "\n",
       "      numDeadRelations  popularity  \n",
       "S.No                                \n",
       "1685                 0    0.110368  \n",
       "1869                 6    0.167224  \n",
       "\n",
       "[2 rows x 24 columns]"
      ]
     },
     "execution_count": 96,
     "metadata": {},
     "output_type": "execute_result"
    }
   ],
   "source": [
    "#Подсказка\n",
    "data_test.loc[data_test['age']<0] # Находим данные с ошибками в дате рождения и возрасте"
   ]
  },
  {
   "cell_type": "code",
   "execution_count": 97,
   "metadata": {
    "id": "wFZ3sm_G0_l0"
   },
   "outputs": [],
   "source": [
    "#Вы можете аккуратно поправить тестовые данные, воспользовавшись, например следующим кодом:\n",
    "data_test.loc[1685, 'dateOfBirth'] = 278.\n",
    "data_test.loc[1685, 'age'] = 0\n",
    "# замены в строке 1685: dateOfBirth -> 278. и age -> 0.\n",
    "data_test.loc[1869, 'dateOfBirth'] = 299.\n",
    "data_test.loc[1869, 'age'] = 0\n",
    "# замены в строке 1869: dateOfBirth -> 299. и age -> 0."
   ]
  },
  {
   "cell_type": "markdown",
   "metadata": {
    "id": "SbovkBtb1BW5"
   },
   "source": [
    "Преобразуйте признаки в тестовом датасете по тому же пайплайну, как вы преобразовывали обучающие данные. Примените вашу лучшую модель на тестовом датасете для получения прогноза целевой переменной `isAlive`"
   ]
  },
  {
   "cell_type": "code",
   "execution_count": 98,
   "metadata": {
    "scrolled": true
   },
   "outputs": [
    {
     "data": {
      "text/plain": [
       "name                  0\n",
       "title               168\n",
       "male                  0\n",
       "culture             200\n",
       "dateOfBirth         235\n",
       "mother              386\n",
       "father              385\n",
       "heir                387\n",
       "house                46\n",
       "spouse              313\n",
       "book1                 0\n",
       "book2                 0\n",
       "book3                 0\n",
       "book4                 0\n",
       "book5                 0\n",
       "isAliveMother       386\n",
       "isAliveFather       385\n",
       "isAliveHeir         387\n",
       "isAliveSpouse       313\n",
       "isMarried             0\n",
       "isNoble               0\n",
       "age                 235\n",
       "numDeadRelations      0\n",
       "popularity            0\n",
       "dtype: int64"
      ]
     },
     "execution_count": 98,
     "metadata": {},
     "output_type": "execute_result"
    }
   ],
   "source": [
    "data_test.isna().sum(axis=0)"
   ]
  },
  {
   "cell_type": "code",
   "execution_count": 99,
   "metadata": {},
   "outputs": [],
   "source": [
    "data_test['popularity'] = np.log10(data_test['popularity'] * 100 + 1)\n",
    "data_test['boolDeadRelations'] = (data_test['numDeadRelations'] > 0).astype(int)\n",
    "data_test['age_value'] = data_test['age'].fillna(0)\n",
    "data_test['age_no_data'] = [1 if np.isnan(x) else 0 for x in data_test['age']]"
   ]
  },
  {
   "cell_type": "code",
   "execution_count": 100,
   "metadata": {},
   "outputs": [],
   "source": [
    "data_test['culture_grouped'] = data_test['culture'].str.lower().map(cultures_grouped_inverted)\n",
    "data_test['culture_grouped'] = data_test['culture_grouped'].fillna('culture_no_data')"
   ]
  },
  {
   "cell_type": "code",
   "execution_count": 115,
   "metadata": {
    "scrolled": true
   },
   "outputs": [
    {
     "data": {
      "text/html": [
       "<div>\n",
       "<style scoped>\n",
       "    .dataframe tbody tr th:only-of-type {\n",
       "        vertical-align: middle;\n",
       "    }\n",
       "\n",
       "    .dataframe tbody tr th {\n",
       "        vertical-align: top;\n",
       "    }\n",
       "\n",
       "    .dataframe thead th {\n",
       "        text-align: right;\n",
       "    }\n",
       "</style>\n",
       "<table border=\"1\" class=\"dataframe\">\n",
       "  <thead>\n",
       "    <tr style=\"text-align: right;\">\n",
       "      <th></th>\n",
       "      <th>count</th>\n",
       "      <th>min</th>\n",
       "      <th>max</th>\n",
       "      <th>N_unique_values</th>\n",
       "    </tr>\n",
       "  </thead>\n",
       "  <tbody>\n",
       "    <tr>\n",
       "      <th>male</th>\n",
       "      <td>389.0</td>\n",
       "      <td>0.00000</td>\n",
       "      <td>1.000000</td>\n",
       "      <td>2</td>\n",
       "    </tr>\n",
       "    <tr>\n",
       "      <th>dateOfBirth</th>\n",
       "      <td>154.0</td>\n",
       "      <td>-28.00000</td>\n",
       "      <td>300.000000</td>\n",
       "      <td>83</td>\n",
       "    </tr>\n",
       "    <tr>\n",
       "      <th>book1</th>\n",
       "      <td>389.0</td>\n",
       "      <td>0.00000</td>\n",
       "      <td>1.000000</td>\n",
       "      <td>2</td>\n",
       "    </tr>\n",
       "    <tr>\n",
       "      <th>book2</th>\n",
       "      <td>389.0</td>\n",
       "      <td>0.00000</td>\n",
       "      <td>1.000000</td>\n",
       "      <td>2</td>\n",
       "    </tr>\n",
       "    <tr>\n",
       "      <th>book3</th>\n",
       "      <td>389.0</td>\n",
       "      <td>0.00000</td>\n",
       "      <td>1.000000</td>\n",
       "      <td>2</td>\n",
       "    </tr>\n",
       "    <tr>\n",
       "      <th>book4</th>\n",
       "      <td>389.0</td>\n",
       "      <td>0.00000</td>\n",
       "      <td>1.000000</td>\n",
       "      <td>2</td>\n",
       "    </tr>\n",
       "    <tr>\n",
       "      <th>book5</th>\n",
       "      <td>389.0</td>\n",
       "      <td>0.00000</td>\n",
       "      <td>1.000000</td>\n",
       "      <td>2</td>\n",
       "    </tr>\n",
       "    <tr>\n",
       "      <th>isAliveMother</th>\n",
       "      <td>3.0</td>\n",
       "      <td>1.00000</td>\n",
       "      <td>1.000000</td>\n",
       "      <td>1</td>\n",
       "    </tr>\n",
       "    <tr>\n",
       "      <th>isAliveFather</th>\n",
       "      <td>4.0</td>\n",
       "      <td>0.00000</td>\n",
       "      <td>0.000000</td>\n",
       "      <td>1</td>\n",
       "    </tr>\n",
       "    <tr>\n",
       "      <th>isAliveHeir</th>\n",
       "      <td>2.0</td>\n",
       "      <td>0.00000</td>\n",
       "      <td>1.000000</td>\n",
       "      <td>2</td>\n",
       "    </tr>\n",
       "    <tr>\n",
       "      <th>isAliveSpouse</th>\n",
       "      <td>76.0</td>\n",
       "      <td>0.00000</td>\n",
       "      <td>1.000000</td>\n",
       "      <td>2</td>\n",
       "    </tr>\n",
       "    <tr>\n",
       "      <th>isMarried</th>\n",
       "      <td>389.0</td>\n",
       "      <td>0.00000</td>\n",
       "      <td>1.000000</td>\n",
       "      <td>2</td>\n",
       "    </tr>\n",
       "    <tr>\n",
       "      <th>isNoble</th>\n",
       "      <td>389.0</td>\n",
       "      <td>0.00000</td>\n",
       "      <td>1.000000</td>\n",
       "      <td>2</td>\n",
       "    </tr>\n",
       "    <tr>\n",
       "      <th>age</th>\n",
       "      <td>154.0</td>\n",
       "      <td>0.00000</td>\n",
       "      <td>100.000000</td>\n",
       "      <td>63</td>\n",
       "    </tr>\n",
       "    <tr>\n",
       "      <th>numDeadRelations</th>\n",
       "      <td>389.0</td>\n",
       "      <td>0.00000</td>\n",
       "      <td>15.000000</td>\n",
       "      <td>13</td>\n",
       "    </tr>\n",
       "    <tr>\n",
       "      <th>popularity</th>\n",
       "      <td>389.0</td>\n",
       "      <td>0.00000</td>\n",
       "      <td>2.004321</td>\n",
       "      <td>135</td>\n",
       "    </tr>\n",
       "    <tr>\n",
       "      <th>boolDeadRelations</th>\n",
       "      <td>389.0</td>\n",
       "      <td>0.00000</td>\n",
       "      <td>1.000000</td>\n",
       "      <td>2</td>\n",
       "    </tr>\n",
       "    <tr>\n",
       "      <th>age_value</th>\n",
       "      <td>389.0</td>\n",
       "      <td>0.00000</td>\n",
       "      <td>100.000000</td>\n",
       "      <td>63</td>\n",
       "    </tr>\n",
       "    <tr>\n",
       "      <th>age_no_data</th>\n",
       "      <td>389.0</td>\n",
       "      <td>0.00000</td>\n",
       "      <td>1.000000</td>\n",
       "      <td>2</td>\n",
       "    </tr>\n",
       "    <tr>\n",
       "      <th>isQueen</th>\n",
       "      <td>389.0</td>\n",
       "      <td>0.00000</td>\n",
       "      <td>1.000000</td>\n",
       "      <td>2</td>\n",
       "    </tr>\n",
       "    <tr>\n",
       "      <th>isPrince</th>\n",
       "      <td>389.0</td>\n",
       "      <td>0.00000</td>\n",
       "      <td>1.000000</td>\n",
       "      <td>2</td>\n",
       "    </tr>\n",
       "    <tr>\n",
       "      <th>inBooks</th>\n",
       "      <td>389.0</td>\n",
       "      <td>0.00000</td>\n",
       "      <td>5.000000</td>\n",
       "      <td>6</td>\n",
       "    </tr>\n",
       "    <tr>\n",
       "      <th>mother_info</th>\n",
       "      <td>389.0</td>\n",
       "      <td>0.00000</td>\n",
       "      <td>1.000000</td>\n",
       "      <td>2</td>\n",
       "    </tr>\n",
       "    <tr>\n",
       "      <th>father_info</th>\n",
       "      <td>389.0</td>\n",
       "      <td>0.00000</td>\n",
       "      <td>1.000000</td>\n",
       "      <td>2</td>\n",
       "    </tr>\n",
       "    <tr>\n",
       "      <th>spouse_info</th>\n",
       "      <td>389.0</td>\n",
       "      <td>0.00000</td>\n",
       "      <td>1.000000</td>\n",
       "      <td>2</td>\n",
       "    </tr>\n",
       "    <tr>\n",
       "      <th>heir_info</th>\n",
       "      <td>389.0</td>\n",
       "      <td>0.00000</td>\n",
       "      <td>1.000000</td>\n",
       "      <td>2</td>\n",
       "    </tr>\n",
       "    <tr>\n",
       "      <th>house_mean_death</th>\n",
       "      <td>389.0</td>\n",
       "      <td>0.00000</td>\n",
       "      <td>1.000000</td>\n",
       "      <td>26</td>\n",
       "    </tr>\n",
       "    <tr>\n",
       "      <th>culturte_mean_death</th>\n",
       "      <td>389.0</td>\n",
       "      <td>0.28125</td>\n",
       "      <td>1.000000</td>\n",
       "      <td>12</td>\n",
       "    </tr>\n",
       "  </tbody>\n",
       "</table>\n",
       "</div>"
      ],
      "text/plain": [
       "                     count       min         max  N_unique_values\n",
       "male                 389.0   0.00000    1.000000                2\n",
       "dateOfBirth          154.0 -28.00000  300.000000               83\n",
       "book1                389.0   0.00000    1.000000                2\n",
       "book2                389.0   0.00000    1.000000                2\n",
       "book3                389.0   0.00000    1.000000                2\n",
       "book4                389.0   0.00000    1.000000                2\n",
       "book5                389.0   0.00000    1.000000                2\n",
       "isAliveMother          3.0   1.00000    1.000000                1\n",
       "isAliveFather          4.0   0.00000    0.000000                1\n",
       "isAliveHeir            2.0   0.00000    1.000000                2\n",
       "isAliveSpouse         76.0   0.00000    1.000000                2\n",
       "isMarried            389.0   0.00000    1.000000                2\n",
       "isNoble              389.0   0.00000    1.000000                2\n",
       "age                  154.0   0.00000  100.000000               63\n",
       "numDeadRelations     389.0   0.00000   15.000000               13\n",
       "popularity           389.0   0.00000    2.004321              135\n",
       "boolDeadRelations    389.0   0.00000    1.000000                2\n",
       "age_value            389.0   0.00000  100.000000               63\n",
       "age_no_data          389.0   0.00000    1.000000                2\n",
       "isQueen              389.0   0.00000    1.000000                2\n",
       "isPrince             389.0   0.00000    1.000000                2\n",
       "inBooks              389.0   0.00000    5.000000                6\n",
       "mother_info          389.0   0.00000    1.000000                2\n",
       "father_info          389.0   0.00000    1.000000                2\n",
       "spouse_info          389.0   0.00000    1.000000                2\n",
       "heir_info            389.0   0.00000    1.000000                2\n",
       "house_mean_death     389.0   0.00000    1.000000               26\n",
       "culturte_mean_death  389.0   0.28125    1.000000               12"
      ]
     },
     "execution_count": 115,
     "metadata": {},
     "output_type": "execute_result"
    }
   ],
   "source": [
    "data_test.describe(include = ['float64','int64']).T[['count', 'min', 'max']].assign(N_unique_values = data_test.nunique())"
   ]
  },
  {
   "cell_type": "code",
   "execution_count": 101,
   "metadata": {
    "scrolled": true
   },
   "outputs": [
    {
     "name": "stderr",
     "output_type": "stream",
     "text": [
      "/var/folders/d3/wmmqppc90yqd4hftyc5nm_dr0000gn/T/ipykernel_92349/2231410130.py:1: FutureWarning: A value is trying to be set on a copy of a DataFrame or Series through chained assignment using an inplace method.\n",
      "The behavior will change in pandas 3.0. This inplace method will never work because the intermediate object on which we are setting values always behaves as a copy.\n",
      "\n",
      "For example, when doing 'df[col].method(value, inplace=True)', try using 'df.method({col: value}, inplace=True)' or df[col] = df[col].method(value) instead, to perform the operation inplace on the original object.\n",
      "\n",
      "\n",
      "  data_test['title'].fillna('NoData', inplace=True)\n"
     ]
    }
   ],
   "source": [
    "data_test['title'].fillna('NoData', inplace=True)\n",
    "data_test['isQueen']=(data_test['title'].str.contains('queen',case=False)).astype(int)\n",
    "data_test['isPrince']=((data_test['title'].str.contains('prince', case=False)) & (data_test['isQueen'] == 0)).astype(int)"
   ]
  },
  {
   "cell_type": "code",
   "execution_count": 102,
   "metadata": {},
   "outputs": [],
   "source": [
    "data_test['inBooks']=data_test.book1+data_test.book2+data_test.book3 +data_test.book4+data_test.book5"
   ]
  },
  {
   "cell_type": "code",
   "execution_count": 103,
   "metadata": {},
   "outputs": [],
   "source": [
    "data_test['mother_info'] = data_test['mother'].notna().astype(int)\n",
    "data_test['father_info'] = data_test['father'].notna().astype(int)\n",
    "data_test['spouse_info'] = data_test['spouse'].notna().astype(int)\n",
    "data_test['heir_info']   = data_test['heir'].notna().astype(int)"
   ]
  },
  {
   "cell_type": "code",
   "execution_count": 105,
   "metadata": {},
   "outputs": [],
   "source": [
    "data_test.house.fillna('NoData',inplace=True)\n",
    "data_test['house_mean_death'] = data_test['house'].map(house_death_set)"
   ]
  },
  {
   "cell_type": "code",
   "execution_count": 108,
   "metadata": {},
   "outputs": [],
   "source": [
    "data_test.culture_grouped.fillna('NoData', inplace=True)\n",
    "data_test['culturte_mean_death'] = data_test['culture_grouped'].map(culture_death_set)"
   ]
  },
  {
   "cell_type": "code",
   "execution_count": 221,
   "metadata": {},
   "outputs": [],
   "source": [
    "df_objs = pd.get_dummies(data_test.culture_grouped,drop_first=True,dtype='int64')\n",
    "data_test = pd.concat([data_test,df_objs],axis=1)"
   ]
  },
  {
   "cell_type": "code",
   "execution_count": 114,
   "metadata": {
    "scrolled": true
   },
   "outputs": [],
   "source": [
    "data_test.house_mean_death.fillna(data_test.house_mean_death.mean(),inplace=True)"
   ]
  },
  {
   "cell_type": "code",
   "execution_count": 259,
   "metadata": {},
   "outputs": [
    {
     "data": {
      "text/plain": [
       "male                         0\n",
       "book1                        0\n",
       "book2                        0\n",
       "book3                        0\n",
       "book4                        0\n",
       "book5                        0\n",
       "isNoble                      0\n",
       "popularity                   0\n",
       "boolDeadRelations            0\n",
       "age_value                    0\n",
       "age_no_data                  0\n",
       "isKing                       0\n",
       "isQueen                      0\n",
       "isPrince                     0\n",
       "isLord                       0\n",
       "isBelongHouse                0\n",
       "isKnownPlace                 0\n",
       "Essos Nations                0\n",
       "Old Nations                  0\n",
       "Other Nations                0\n",
       "the Iron Islands             0\n",
       "the Mountain and the Vale    0\n",
       "the Rock                     0\n",
       "the Stormlands               0\n",
       "dtype: int64"
      ]
     },
     "execution_count": 259,
     "metadata": {},
     "output_type": "execute_result"
    }
   ],
   "source": [
    "X_test.isna().sum(axis=0)"
   ]
  },
  {
   "cell_type": "code",
   "execution_count": 119,
   "metadata": {},
   "outputs": [],
   "source": [
    "X_test = data_test[['male',  'book5', 'isMarried', 'isNoble', 'popularity',\n",
    "        'boolDeadRelations', 'age_value', 'age_no_data', \n",
    "       'isQueen', 'isPrince', 'inBooks', 'mother_info',\n",
    "       'father_info', 'spouse_info', 'heir_info', 'house_mean_death',\n",
    "       'culturte_mean_death']]"
   ]
  },
  {
   "cell_type": "code",
   "execution_count": 120,
   "metadata": {},
   "outputs": [],
   "source": [
    "scaled_X_test = scaler.transform(X_test)"
   ]
  },
  {
   "cell_type": "code",
   "execution_count": 121,
   "metadata": {},
   "outputs": [],
   "source": [
    "y_sub_pred = log_model.predict(scaled_X_test)"
   ]
  },
  {
   "cell_type": "markdown",
   "metadata": {
    "id": "cY5PRBS-yWro"
   },
   "source": [
    "### Файл `submission.csv`"
   ]
  },
  {
   "cell_type": "code",
   "execution_count": 122,
   "metadata": {
    "id": "9ae_dGCf1Jpi"
   },
   "outputs": [],
   "source": [
    "submission = pd.read_csv('content/submission.csv', index_col='S.No')"
   ]
  },
  {
   "cell_type": "code",
   "execution_count": 157,
   "metadata": {
    "colab": {
     "base_uri": "https://localhost:8080/",
     "height": 455
    },
    "id": "JbruP2U01N-z",
    "outputId": "d92ed68a-f3bf-488e-e420-8c565a975d5d",
    "scrolled": true
   },
   "outputs": [
    {
     "data": {
      "text/html": [
       "<div>\n",
       "<style scoped>\n",
       "    .dataframe tbody tr th:only-of-type {\n",
       "        vertical-align: middle;\n",
       "    }\n",
       "\n",
       "    .dataframe tbody tr th {\n",
       "        vertical-align: top;\n",
       "    }\n",
       "\n",
       "    .dataframe thead th {\n",
       "        text-align: right;\n",
       "    }\n",
       "</style>\n",
       "<table border=\"1\" class=\"dataframe\">\n",
       "  <thead>\n",
       "    <tr style=\"text-align: right;\">\n",
       "      <th></th>\n",
       "      <th>isAlive</th>\n",
       "    </tr>\n",
       "    <tr>\n",
       "      <th>S.No</th>\n",
       "      <th></th>\n",
       "    </tr>\n",
       "  </thead>\n",
       "  <tbody>\n",
       "    <tr>\n",
       "      <th>1558</th>\n",
       "      <td>0</td>\n",
       "    </tr>\n",
       "    <tr>\n",
       "      <th>1559</th>\n",
       "      <td>1</td>\n",
       "    </tr>\n",
       "    <tr>\n",
       "      <th>1560</th>\n",
       "      <td>1</td>\n",
       "    </tr>\n",
       "    <tr>\n",
       "      <th>1561</th>\n",
       "      <td>1</td>\n",
       "    </tr>\n",
       "    <tr>\n",
       "      <th>1562</th>\n",
       "      <td>1</td>\n",
       "    </tr>\n",
       "    <tr>\n",
       "      <th>...</th>\n",
       "      <td>...</td>\n",
       "    </tr>\n",
       "    <tr>\n",
       "      <th>1942</th>\n",
       "      <td>1</td>\n",
       "    </tr>\n",
       "    <tr>\n",
       "      <th>1943</th>\n",
       "      <td>1</td>\n",
       "    </tr>\n",
       "    <tr>\n",
       "      <th>1944</th>\n",
       "      <td>1</td>\n",
       "    </tr>\n",
       "    <tr>\n",
       "      <th>1945</th>\n",
       "      <td>1</td>\n",
       "    </tr>\n",
       "    <tr>\n",
       "      <th>1946</th>\n",
       "      <td>1</td>\n",
       "    </tr>\n",
       "  </tbody>\n",
       "</table>\n",
       "<p>389 rows × 1 columns</p>\n",
       "</div>"
      ],
      "text/plain": [
       "      isAlive\n",
       "S.No         \n",
       "1558        0\n",
       "1559        1\n",
       "1560        1\n",
       "1561        1\n",
       "1562        1\n",
       "...       ...\n",
       "1942        1\n",
       "1943        1\n",
       "1944        1\n",
       "1945        1\n",
       "1946        1\n",
       "\n",
       "[389 rows x 1 columns]"
      ]
     },
     "execution_count": 157,
     "metadata": {},
     "output_type": "execute_result"
    }
   ],
   "source": [
    "submission.isAlive=y_sub_pred\n",
    "submission"
   ]
  },
  {
   "cell_type": "markdown",
   "metadata": {
    "id": "pCt9b7ih12If"
   },
   "source": [
    "Как сохранить измененный Pandas DataFrame в csv файл:"
   ]
  },
  {
   "cell_type": "code",
   "execution_count": 158,
   "metadata": {
    "id": "FdCgUj7Z1Oty"
   },
   "outputs": [],
   "source": [
    "submission.to_csv('content/new_submission.csv', index=False)"
   ]
  }
 ],
 "metadata": {
  "colab": {
   "provenance": []
  },
  "kernelspec": {
   "display_name": "Python [conda env:base] *",
   "language": "python",
   "name": "conda-base-py"
  },
  "language_info": {
   "codemirror_mode": {
    "name": "ipython",
    "version": 3
   },
   "file_extension": ".py",
   "mimetype": "text/x-python",
   "name": "python",
   "nbconvert_exporter": "python",
   "pygments_lexer": "ipython3",
   "version": "3.13.5"
  }
 },
 "nbformat": 4,
 "nbformat_minor": 4
}
